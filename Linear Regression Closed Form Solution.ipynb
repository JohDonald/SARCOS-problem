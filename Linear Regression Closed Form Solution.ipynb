{
 "cells": [
  {
   "cell_type": "markdown",
   "metadata": {},
   "source": [
    "# Linear Regression\n",
    "----------------------------\n"
   ]
  },
  {
   "cell_type": "code",
   "execution_count": 210,
   "metadata": {},
   "outputs": [],
   "source": [
    "import numpy as np\n",
    "import pandas as pd\n",
    "from sklearn.model_selection import train_test_split\n",
    "from sklearn import preprocessing\n",
    "import matplotlib.pyplot as plt"
   ]
  },
  {
   "cell_type": "markdown",
   "metadata": {},
   "source": [
    "### Toy problem/data"
   ]
  },
  {
   "cell_type": "code",
   "execution_count": 348,
   "metadata": {},
   "outputs": [],
   "source": [
    "#Toy 1D data set:\n",
    "#Sinusoidal:\n",
    "x_toy = np.linspace(-3,3,500)\n",
    "y_sin = np.sin(x_toy)*0.5 +5 + np.random.normal(size = 500)*0.1 #Adding noise to the toy problem\n",
    "#Linear:\n",
    "y_lin = 2*x_toy + 5 + np.random.normal(size = 500)*0.1 #Adding noise to the toy problem"
   ]
  },
  {
   "cell_type": "code",
   "execution_count": 349,
   "metadata": {},
   "outputs": [],
   "source": [
    "#Linear:\n",
    "x_Toy, x_Toy_test, y_Toy, y_Toy_test = train_test_split(x_toy, y_lin, test_size=0.20, random_state=101)\n",
    "\n",
    "#Sinusoidal:\n",
    "xsin_Toy, xsin_Toy_test, ysin_Toy, ysin_Toy_test = train_test_split(x_toy, y_sin, test_size=0.20, random_state=101)"
   ]
  },
  {
   "cell_type": "markdown",
   "metadata": {},
   "source": [
    "### Sarcos Data"
   ]
  },
  {
   "cell_type": "code",
   "execution_count": 350,
   "metadata": {},
   "outputs": [],
   "source": [
    "sarcos = pd.read_csv('sarcos_inv.csv', header = None).values"
   ]
  },
  {
   "cell_type": "code",
   "execution_count": 351,
   "metadata": {},
   "outputs": [],
   "source": [
    "xt_, xtst_, yt, ytst = train_test_split(sarcos[:,:-1], sarcos[:,-1], train_size=0.9, random_state=101)"
   ]
  },
  {
   "cell_type": "code",
   "execution_count": 352,
   "metadata": {},
   "outputs": [],
   "source": [
    "xtst_ = xtst_[:50]\n",
    "ytst = ytst[:50]"
   ]
  },
  {
   "cell_type": "markdown",
   "metadata": {},
   "source": [
    "Here we standardize the x-values using the mean and unit standard deviation for each feature in the training data_set."
   ]
  },
  {
   "cell_type": "code",
   "execution_count": 353,
   "metadata": {},
   "outputs": [],
   "source": [
    "scaler = preprocessing.StandardScaler().fit(xt_)\n",
    "xt, xtst = scaler.transform(xt_), scaler.transform(xtst_)"
   ]
  },
  {
   "cell_type": "markdown",
   "metadata": {},
   "source": [
    "# Linear regression model (using closed form solution)\n",
    "\n",
    "Here we build the MSE and LinearRegression classes. The Linear Regression is trained using the closed form solution:\n",
    "\n",
    "$$ \\hat{\\beta} = (X^{T}X)^{-1}X^{T}y $$"
   ]
  },
  {
   "cell_type": "code",
   "execution_count": 354,
   "metadata": {},
   "outputs": [],
   "source": [
    "def mse(Prediction, Y):\n",
    "    MSE = np.mean(np.square(Prediction - Y))\n",
    "    return MSE"
   ]
  },
  {
   "cell_type": "code",
   "execution_count": 355,
   "metadata": {},
   "outputs": [],
   "source": [
    "class LinearRegression():\n",
    "    \n",
    "    def __init__(self, intercept = True):\n",
    "        self.intercept = intercept\n",
    "    \n",
    "    def fit(self, X, Y):\n",
    "        if self.intercept == True:\n",
    "            if len(X.shape) == 1:\n",
    "                X = X.reshape(-1,1)\n",
    "                X = np.insert(X,0,1,1)\n",
    "                w = (np.linalg.inv(X.T @ X)) @ X.T @ Y\n",
    "\n",
    "                self.B = w[1:]\n",
    "                self.c = w[0]\n",
    "                \n",
    "            else:\n",
    "                X = np.insert(X,0,1,1)\n",
    "                w = np.linalg.inv(X.T @ X) @ X.T @ Y\n",
    "\n",
    "                self.B = w[1:]\n",
    "                self.c = w[0]\n",
    "        else:\n",
    "            w = np.linalg.inv(X.T @ X) @ X.T @ Y\n",
    "            self.B = w\n",
    "            self.c = 0\n",
    "        return self\n",
    "            \n",
    "    def predict(self, X_t):\n",
    "        if len(X_t.shape) == 1:\n",
    "            X_t = X_t.reshape(-1,1)\n",
    "            Prediction = X_t @ self.B + self.c\n",
    "        else:\n",
    "            Prediction = X_t @ self.B + self.c\n",
    "        \n",
    "        return Prediction"
   ]
  },
  {
   "cell_type": "markdown",
   "metadata": {},
   "source": [
    "## Sarcos LR"
   ]
  },
  {
   "cell_type": "code",
   "execution_count": 356,
   "metadata": {},
   "outputs": [],
   "source": [
    "model = LinearRegression()\n",
    "model.fit(xt,yt)\n",
    "prediction = model.predict(xtst)"
   ]
  },
  {
   "cell_type": "code",
   "execution_count": 357,
   "metadata": {},
   "outputs": [
    {
     "data": {
      "text/plain": [
       "16.766759879376508"
      ]
     },
     "execution_count": 357,
     "metadata": {},
     "output_type": "execute_result"
    }
   ],
   "source": [
    "mse(prediction,ytst)"
   ]
  },
  {
   "cell_type": "markdown",
   "metadata": {},
   "source": [
    "## Toy Problem LR\n",
    "Linear"
   ]
  },
  {
   "cell_type": "code",
   "execution_count": 358,
   "metadata": {},
   "outputs": [],
   "source": [
    "model_toy_lin = LinearRegression()\n",
    "model_toy_lin.fit(x_Toy,y_Toy)\n",
    "prediction_toy_lin = model_toy_lin.predict(x_Toy_test)"
   ]
  },
  {
   "cell_type": "code",
   "execution_count": 359,
   "metadata": {},
   "outputs": [
    {
     "data": {
      "text/plain": [
       "0.01083862112012038"
      ]
     },
     "execution_count": 359,
     "metadata": {},
     "output_type": "execute_result"
    }
   ],
   "source": [
    "mse(prediction_toy_lin, y_Toy_test)"
   ]
  },
  {
   "cell_type": "markdown",
   "metadata": {},
   "source": [
    "Sinusoidal"
   ]
  },
  {
   "cell_type": "code",
   "execution_count": 360,
   "metadata": {},
   "outputs": [],
   "source": [
    "model_toy_sin = LinearRegression()\n",
    "model_toy_sin.fit(xsin_Toy,ysin_Toy)\n",
    "prediction_toy_sin = model_toy_sin.predict(xsin_Toy_test)"
   ]
  },
  {
   "cell_type": "code",
   "execution_count": 361,
   "metadata": {},
   "outputs": [
    {
     "data": {
      "text/plain": [
       "0.05143469792459664"
      ]
     },
     "execution_count": 361,
     "metadata": {},
     "output_type": "execute_result"
    }
   ],
   "source": [
    "mse(prediction_toy_sin, ysin_Toy_test)"
   ]
  },
  {
   "cell_type": "markdown",
   "metadata": {},
   "source": [
    "## Plots for Toy Problem"
   ]
  },
  {
   "cell_type": "markdown",
   "metadata": {},
   "source": [
    "#### Linear (with noise)"
   ]
  },
  {
   "cell_type": "code",
   "execution_count": 362,
   "metadata": {},
   "outputs": [],
   "source": [
    "x_Toy_test_ = x_Toy_test[np.argsort(x_Toy_test)]\n",
    "prediction_toy_lin_ = prediction_toy_lin[np.argsort(x_Toy_test)]\n",
    "y_Toy_test_ = y_Toy_test[np.argsort(x_Toy_test)]"
   ]
  },
  {
   "cell_type": "code",
   "execution_count": 363,
   "metadata": {},
   "outputs": [
    {
     "data": {
      "image/png": "[encoded data removed]",
      "text/plain": [
       "<Figure size 576x396 with 1 Axes>"
      ]
     },
     "metadata": {},
     "output_type": "display_data"
    }
   ],
   "source": [
    "plt.style.use('seaborn')\n",
    "plt.plot(x_Toy_test_, prediction_toy_lin_, color = 'b', label='Predictions')\n",
    "plt.scatter(x_Toy_test_, y_Toy_test_, color = 'r', label='Ytest')\n",
    "plt.legend(prop={'size': 13})\n",
    "plt.title('Linear - w noise', fontsize=20)\n",
    "plt.xlim(-5,5)\n",
    "\n",
    "plt.xlabel('$\\mathbf{X}_{toy}$', size = 13)\n",
    "plt.ylabel('$\\mathbf{Y}_{toy}$', size = 13)\n",
    "\n",
    "\n",
    "plt.show()"
   ]
  },
  {
   "cell_type": "markdown",
   "metadata": {},
   "source": [
    "#### Sinusoidal (with noise)"
   ]
  },
  {
   "cell_type": "code",
   "execution_count": 364,
   "metadata": {},
   "outputs": [],
   "source": [
    "xsin_Toy_test_ = x_Toy_test[np.argsort(xsin_Toy_test)]\n",
    "prediction_toy_sin_ = prediction_toy_sin[np.argsort(xsin_Toy_test)]\n",
    "ysin_Toy_test_ = ysin_Toy_test[np.argsort(xsin_Toy_test)]"
   ]
  },
  {
   "cell_type": "code",
   "execution_count": 365,
   "metadata": {},
   "outputs": [
    {
     "data": {
      "image/png": "[encoded data removed]",
      "text/plain": [
       "<Figure size 576x396 with 1 Axes>"
      ]
     },
     "metadata": {},
     "output_type": "display_data"
    }
   ],
   "source": [
    "plt.style.use('seaborn')\n",
    "plt.plot(xsin_Toy_test_, prediction_toy_sin_, color = 'b', label='Predictions')\n",
    "plt.scatter(xsin_Toy_test_, ysin_Toy_test_, color = 'r', label='Ytest')\n",
    "plt.legend(prop={'size': 13})\n",
    "plt.title('Sinusoidal - w noise', fontsize=20)\n",
    "plt.xlim(-5,5)\n",
    "\n",
    "plt.xlabel('$\\mathbf{X}_{toy}$', size = 13)\n",
    "plt.ylabel('$\\mathbf{Y}_{toy}$', size = 13)\n",
    "\n",
    "plt.show()"
   ]
  }
 ],
 "metadata": {
  "kernelspec": {
   "display_name": "Python 3",
   "language": "python",
   "name": "python3"
  },
  "language_info": {
   "codemirror_mode": {
    "name": "ipython",
    "version": 3
   },
   "file_extension": ".py",
   "mimetype": "text/x-python",
   "name": "python",
   "nbconvert_exporter": "python",
   "pygments_lexer": "ipython3",
   "version": "3.8.2"
  }
 },
 "nbformat": 4,
 "nbformat_minor": 2
}
