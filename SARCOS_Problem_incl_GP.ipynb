{
 "cells": [
  {
   "cell_type": "markdown",
   "metadata": {},
   "source": [
    "# SARCOS Dataset Problem \n",
    "----------------------------\n",
    "Models applied to the SARCOS Dataset:  \n",
    "Linear Regression  \n",
    "K-NN  \n",
    "RF  \n",
    "Gaussian Process  \n",
    "\n",
    "\n",
    "We also create a linear and sinusoidal toy problem to sense check the models."
   ]
  },
  {
   "cell_type": "code",
   "execution_count": 1,
   "metadata": {},
   "outputs": [],
   "source": [
    "import numpy as np\n",
    "import pandas as pd\n",
    "import scipy as sc\n",
    "import matplotlib.pyplot as plt\n",
    "\n",
    "from sklearn.model_selection import train_test_split\n",
    "from sklearn import preprocessing\n",
    "from tqdm.notebook import tqdm\n",
    "from scipy.spatial import distance"
   ]
  },
  {
   "cell_type": "markdown",
   "metadata": {},
   "source": [
    "### Toy problem/data"
   ]
  },
  {
   "cell_type": "code",
   "execution_count": 2,
   "metadata": {},
   "outputs": [],
   "source": [
    "#Toy 1D data set:\n",
    "#Sinusoidal:\n",
    "x_toy = np.linspace(-3,3,500)\n",
    "y_sin = np.sin(x_toy)*0.5 +5 + np.random.normal(size = 500)*0.1 #Adding noise to the toy problem\n",
    "#Linear:\n",
    "y_lin = 2*x_toy + 5 + np.random.normal(size = 500)*0.1 #Adding noise to the toy problem"
   ]
  },
  {
   "cell_type": "code",
   "execution_count": 3,
   "metadata": {},
   "outputs": [],
   "source": [
    "#Linear:\n",
    "x_Toy, x_Toy_test, y_Toy, y_Toy_test = train_test_split(x_toy, y_lin, test_size=0.20, random_state=101)\n",
    "\n",
    "#Sinusoidal:\n",
    "xsin_Toy, xsin_Toy_test, ysin_Toy, ysin_Toy_test = train_test_split(x_toy, y_sin, test_size=0.20, random_state=101)"
   ]
  },
  {
   "cell_type": "markdown",
   "metadata": {},
   "source": [
    "### Sarcos Data"
   ]
  },
  {
   "cell_type": "code",
   "execution_count": 4,
   "metadata": {},
   "outputs": [],
   "source": [
    "sarcos = pd.read_csv('sarcos_inv.csv', header = None).values"
   ]
  },
  {
   "cell_type": "code",
   "execution_count": 5,
   "metadata": {},
   "outputs": [],
   "source": [
    "xt_, xtst_, yt, ytst = train_test_split(sarcos[:,:-1], sarcos[:,-1], train_size=0.9, random_state=101)"
   ]
  },
  {
   "cell_type": "code",
   "execution_count": 6,
   "metadata": {},
   "outputs": [],
   "source": [
    "xtst_ = xtst_[:50]\n",
    "ytst = ytst[:50]"
   ]
  },
  {
   "cell_type": "markdown",
   "metadata": {},
   "source": [
    "Here we standardize the x-values using the mean and unit standard deviation for each feature in the training data_set."
   ]
  },
  {
   "cell_type": "code",
   "execution_count": 7,
   "metadata": {},
   "outputs": [],
   "source": [
    "scaler = preprocessing.StandardScaler().fit(xt_)\n",
    "xt, xtst = scaler.transform(xt_), scaler.transform(xtst_)"
   ]
  },
  {
   "cell_type": "code",
   "execution_count": 8,
   "metadata": {},
   "outputs": [],
   "source": [
    "def calc_mse(Prediction, Y):\n",
    "    mse = np.mean(np.square(Prediction - Y))\n",
    "    return mse"
   ]
  },
  {
   "cell_type": "markdown",
   "metadata": {},
   "source": [
    "# 1) Linear Regression  \n",
    "## (using closed form solution)\n",
    "\n",
    "Here we build the LinearRegression class. The Linear Regression is trained using the closed form solution:\n",
    "\n",
    "$$ \\hat{\\beta} = (X^{T}X)^{-1}X^{T}y $$"
   ]
  },
  {
   "cell_type": "code",
   "execution_count": 9,
   "metadata": {},
   "outputs": [],
   "source": [
    "class LinearRegression():\n",
    "    \n",
    "    def __init__(self, intercept = True):\n",
    "        self.intercept = intercept\n",
    "    \n",
    "    def fit(self, X, Y):\n",
    "        if self.intercept == True:\n",
    "            if len(X.shape) == 1:\n",
    "                X = X.reshape(-1,1)\n",
    "                X = np.insert(X,0,1,1)\n",
    "                w = (np.linalg.inv(X.T @ X)) @ X.T @ Y\n",
    "\n",
    "                self.B = w[1:]\n",
    "                self.c = w[0]\n",
    "                \n",
    "            else:\n",
    "                X = np.insert(X,0,1,1)\n",
    "                w = np.linalg.inv(X.T @ X) @ X.T @ Y\n",
    "\n",
    "                self.B = w[1:]\n",
    "                self.c = w[0]\n",
    "        else:\n",
    "            w = np.linalg.inv(X.T @ X) @ X.T @ Y\n",
    "            self.B = w\n",
    "            self.c = 0\n",
    "        return self\n",
    "            \n",
    "    def predict(self, X_t):\n",
    "        if len(X_t.shape) == 1:\n",
    "            X_t = X_t.reshape(-1,1)\n",
    "            Prediction = X_t @ self.B + self.c\n",
    "        else:\n",
    "            Prediction = X_t @ self.B + self.c\n",
    "        \n",
    "        return Prediction"
   ]
  },
  {
   "cell_type": "markdown",
   "metadata": {},
   "source": [
    "### Sarcos LR"
   ]
  },
  {
   "cell_type": "code",
   "execution_count": 10,
   "metadata": {},
   "outputs": [],
   "source": [
    "model = LinearRegression()\n",
    "model.fit(xt,yt)\n",
    "prediction = model.predict(xtst)"
   ]
  },
  {
   "cell_type": "code",
   "execution_count": 11,
   "metadata": {},
   "outputs": [
    {
     "data": {
      "text/plain": [
       "16.766759879376508"
      ]
     },
     "execution_count": 11,
     "metadata": {},
     "output_type": "execute_result"
    }
   ],
   "source": [
    "calc_mse(prediction,ytst)"
   ]
  },
  {
   "cell_type": "markdown",
   "metadata": {},
   "source": [
    "### Toy Problem LR\n",
    "Linear"
   ]
  },
  {
   "cell_type": "code",
   "execution_count": 12,
   "metadata": {},
   "outputs": [],
   "source": [
    "model_toy_lin = LinearRegression()\n",
    "model_toy_lin.fit(x_Toy,y_Toy)\n",
    "prediction_toy_lin = model_toy_lin.predict(x_Toy_test)"
   ]
  },
  {
   "cell_type": "code",
   "execution_count": 13,
   "metadata": {},
   "outputs": [
    {
     "data": {
      "text/plain": [
       "0.008897628740340235"
      ]
     },
     "execution_count": 13,
     "metadata": {},
     "output_type": "execute_result"
    }
   ],
   "source": [
    "calc_mse(prediction_toy_lin, y_Toy_test)"
   ]
  },
  {
   "cell_type": "markdown",
   "metadata": {},
   "source": [
    "Sinusoidal"
   ]
  },
  {
   "cell_type": "code",
   "execution_count": 14,
   "metadata": {},
   "outputs": [],
   "source": [
    "model_toy_sin = LinearRegression()\n",
    "model_toy_sin.fit(xsin_Toy,ysin_Toy)\n",
    "prediction_toy_sin = model_toy_sin.predict(xsin_Toy_test)"
   ]
  },
  {
   "cell_type": "code",
   "execution_count": 15,
   "metadata": {},
   "outputs": [
    {
     "data": {
      "text/plain": [
       "0.05199873898305433"
      ]
     },
     "execution_count": 15,
     "metadata": {},
     "output_type": "execute_result"
    }
   ],
   "source": [
    "calc_mse(prediction_toy_sin, ysin_Toy_test)"
   ]
  },
  {
   "cell_type": "markdown",
   "metadata": {},
   "source": [
    "### Plots for LR Toy Problem"
   ]
  },
  {
   "cell_type": "markdown",
   "metadata": {},
   "source": [
    "#### Linear (with noise)"
   ]
  },
  {
   "cell_type": "code",
   "execution_count": 16,
   "metadata": {},
   "outputs": [],
   "source": [
    "x_Toy_test_ = x_Toy_test[np.argsort(x_Toy_test)]\n",
    "prediction_toy_lin_ = prediction_toy_lin[np.argsort(x_Toy_test)]\n",
    "y_Toy_test_ = y_Toy_test[np.argsort(x_Toy_test)]"
   ]
  },
  {
   "cell_type": "code",
   "execution_count": 17,
   "metadata": {},
   "outputs": [
    {
     "data": {
      "image/png": "[encoded data removed]",
      "text/plain": [
       "<Figure size 576x396 with 1 Axes>"
      ]
     },
     "metadata": {},
     "output_type": "display_data"
    }
   ],
   "source": [
    "plt.style.use('seaborn')\n",
    "plt.plot(x_Toy_test_, prediction_toy_lin_, color = 'b', label='Predictions')\n",
    "plt.scatter(x_Toy_test_, y_Toy_test_, color = 'r', label='Ytest')\n",
    "plt.legend(prop={'size': 13})\n",
    "plt.title('LR on Linear - w noise', fontsize=20)\n",
    "plt.xlim(-5,5)\n",
    "\n",
    "plt.xlabel('$\\mathbf{X}_{toy}$', size = 13)\n",
    "plt.ylabel('$\\mathbf{Y}_{toy}$', size = 13)\n",
    "\n",
    "\n",
    "plt.show()"
   ]
  },
  {
   "cell_type": "markdown",
   "metadata": {},
   "source": [
    "#### Sinusoidal (with noise)"
   ]
  },
  {
   "cell_type": "code",
   "execution_count": 18,
   "metadata": {},
   "outputs": [],
   "source": [
    "xsin_Toy_test_ = x_Toy_test[np.argsort(xsin_Toy_test)]\n",
    "prediction_toy_sin_ = prediction_toy_sin[np.argsort(xsin_Toy_test)]\n",
    "ysin_Toy_test_ = ysin_Toy_test[np.argsort(xsin_Toy_test)]"
   ]
  },
  {
   "cell_type": "code",
   "execution_count": 19,
   "metadata": {},
   "outputs": [
    {
     "data": {
      "image/png": "[encoded data removed]",
      "text/plain": [
       "<Figure size 576x396 with 1 Axes>"
      ]
     },
     "metadata": {},
     "output_type": "display_data"
    }
   ],
   "source": [
    "plt.style.use('seaborn')\n",
    "plt.plot(xsin_Toy_test_, prediction_toy_sin_, color = 'b', label='Predictions')\n",
    "plt.scatter(xsin_Toy_test_, ysin_Toy_test_, color = 'r', label='Ytest')\n",
    "plt.legend(prop={'size': 13})\n",
    "plt.title('LR on Sinusoidal - w noise', fontsize=20)\n",
    "plt.xlim(-5,5)\n",
    "\n",
    "plt.xlabel('$\\mathbf{X}_{toy}$', size = 13)\n",
    "plt.ylabel('$\\mathbf{Y}_{toy}$', size = 13)\n",
    "\n",
    "plt.show()"
   ]
  },
  {
   "cell_type": "markdown",
   "metadata": {},
   "source": [
    "# 2) K-NN"
   ]
  },
  {
   "cell_type": "code",
   "execution_count": 20,
   "metadata": {},
   "outputs": [],
   "source": [
    "class KNN():\n",
    "\n",
    "    def dist_matrix(self, X, Xt):\n",
    "        if len(X.shape) == 1:\n",
    "            X = X[:, None]\n",
    "            Xt = Xt[:, None]\n",
    "            \n",
    "        euc_dist_ = 0\n",
    "        for i in range(X.shape[-1]):\n",
    "            euc_dist_ += np.square(X[:,i][None] - Xt[:,i][:,None])\n",
    "\n",
    "\n",
    "        return np.sqrt(euc_dist_)\n",
    "            \n",
    "        \n",
    "    def predict(self, dist_m, Y, K):\n",
    "        NNs = np.argsort(dist_m)[:,:K]\n",
    "        \n",
    "        w_d = np.zeros((len(NNs),K))\n",
    "        for i in range(len(NNs)):\n",
    "            w_d[i,:] = dist_m[i,NNs[i]]\n",
    "        \n",
    "        denom = np.sum((1/w_d), axis=1)\n",
    "        weighting = (1/w_d)/denom[:,None]\n",
    "        \n",
    "        predictions = np.sum((Y[NNs] * weighting), axis=1)\n",
    "        \n",
    "        return predictions\n",
    "    "
   ]
  },
  {
   "cell_type": "code",
   "execution_count": 21,
   "metadata": {},
   "outputs": [],
   "source": [
    "def Grid_Search(y_train, y_test, d_matrix, range_start, range_end):\n",
    "\n",
    "    MSE_gridsearch = np.zeros((range_end - range_start))\n",
    "\n",
    "    model_Grid_Srch = KNN()\n",
    "\n",
    "    for K in tqdm(range(range_start,range_end)):\n",
    "\n",
    "        predictions = model_Grid_Srch.predict(d_matrix, y_train, K)\n",
    "\n",
    "        MSE_sarcos = calc_mse(predictions, y_test)\n",
    "\n",
    "        MSE_gridsearch[K-1] = MSE_sarcos\n",
    "\n",
    "    idx = np.argsort(MSE_gridsearch)[0]\n",
    "\n",
    "    K = idx+1\n",
    "\n",
    "    MSE_ = MSE_gridsearch[idx]\n",
    "\n",
    "    return K, MSE_, MSE_gridsearch"
   ]
  },
  {
   "cell_type": "markdown",
   "metadata": {},
   "source": [
    "### SARCOS K-NN"
   ]
  },
  {
   "cell_type": "code",
   "execution_count": 22,
   "metadata": {},
   "outputs": [],
   "source": [
    "idx_k =round(0.6*xt.shape[0])\n",
    "xt_k = xt[:idx_k]\n",
    "yt_k = yt[:idx_k]\n",
    "\n",
    "model_knn = KNN()\n",
    "dist_matrix = model_knn.dist_matrix(xt_k,xtst)"
   ]
  },
  {
   "cell_type": "code",
   "execution_count": 23,
   "metadata": {},
   "outputs": [
    {
     "data": {
      "application/vnd.jupyter.widget-view+json": {
       "model_id": "bfa3cb52d8f64d15812d86f908f44a7c",
       "version_major": 2,
       "version_minor": 0
      },
      "text/plain": [
       "  0%|          | 0/20 [00:00<?, ?it/s]"
      ]
     },
     "metadata": {},
     "output_type": "display_data"
    }
   ],
   "source": [
    "k, mse, results = Grid_Search(yt_k, ytst, dist_matrix, 1, 21)"
   ]
  },
  {
   "cell_type": "code",
   "execution_count": 24,
   "metadata": {},
   "outputs": [
    {
     "data": {
      "text/plain": [
       "(9, 10.514521517529474)"
      ]
     },
     "execution_count": 24,
     "metadata": {},
     "output_type": "execute_result"
    }
   ],
   "source": [
    "(k,mse)"
   ]
  },
  {
   "cell_type": "markdown",
   "metadata": {},
   "source": [
    "### Toy Problem K-NN\n",
    "\n",
    "Linear"
   ]
  },
  {
   "cell_type": "code",
   "execution_count": 25,
   "metadata": {},
   "outputs": [
    {
     "data": {
      "application/vnd.jupyter.widget-view+json": {
       "model_id": "638c50daee0149f28c563a7f8163b2ca",
       "version_major": 2,
       "version_minor": 0
      },
      "text/plain": [
       "  0%|          | 0/20 [00:00<?, ?it/s]"
      ]
     },
     "metadata": {},
     "output_type": "display_data"
    }
   ],
   "source": [
    "model_knn_t_lin = KNN()\n",
    "dist_matrix_toy_lin = model_knn_t_lin.dist_matrix(x_Toy, x_Toy_test)\n",
    "k_toy_lin, mse_toy_lin, results_toy_lin = Grid_Search(y_Toy, y_Toy_test, dist_matrix_toy_lin, 1, 21)"
   ]
  },
  {
   "cell_type": "code",
   "execution_count": 26,
   "metadata": {},
   "outputs": [
    {
     "data": {
      "text/plain": [
       "(17, 0.010157954771771272)"
      ]
     },
     "execution_count": 26,
     "metadata": {},
     "output_type": "execute_result"
    }
   ],
   "source": [
    "(k_toy_lin, mse_toy_lin)"
   ]
  },
  {
   "cell_type": "markdown",
   "metadata": {},
   "source": [
    "Sinusoidal "
   ]
  },
  {
   "cell_type": "code",
   "execution_count": 27,
   "metadata": {},
   "outputs": [
    {
     "data": {
      "application/vnd.jupyter.widget-view+json": {
       "model_id": "31263abb887a49dba2c09067feb7875e",
       "version_major": 2,
       "version_minor": 0
      },
      "text/plain": [
       "  0%|          | 0/20 [00:00<?, ?it/s]"
      ]
     },
     "metadata": {},
     "output_type": "display_data"
    }
   ],
   "source": [
    "model_knn_t_sin = KNN()\n",
    "dist_matrix_toy_sin = model_knn_t_sin.dist_matrix(xsin_Toy, xsin_Toy_test)\n",
    "k_toy_sin, mse_toy_sin, results_toy_sin = Grid_Search(ysin_Toy, ysin_Toy_test, dist_matrix_toy_sin, 1, 21)"
   ]
  },
  {
   "cell_type": "code",
   "execution_count": 28,
   "metadata": {},
   "outputs": [
    {
     "data": {
      "text/plain": [
       "(20, 0.011100901797240301)"
      ]
     },
     "execution_count": 28,
     "metadata": {},
     "output_type": "execute_result"
    }
   ],
   "source": [
    "(k_toy_sin, mse_toy_sin)"
   ]
  },
  {
   "cell_type": "markdown",
   "metadata": {},
   "source": [
    "### Plots for KNN Toy Problem"
   ]
  },
  {
   "cell_type": "markdown",
   "metadata": {},
   "source": [
    "#### Linear (with noise)"
   ]
  },
  {
   "cell_type": "code",
   "execution_count": 29,
   "metadata": {},
   "outputs": [],
   "source": [
    "preds_knn_t_lin = model_knn_t_lin.predict(dist_matrix_toy_lin, y_Toy, k_toy_lin)\n",
    "preds_knn_t_lin_ = preds_knn_t_lin[np.argsort(x_Toy_test)]"
   ]
  },
  {
   "cell_type": "code",
   "execution_count": 30,
   "metadata": {},
   "outputs": [
    {
     "data": {
      "image/png": "[encoded data removed]",
      "text/plain": [
       "<Figure size 576x396 with 1 Axes>"
      ]
     },
     "metadata": {},
     "output_type": "display_data"
    }
   ],
   "source": [
    "plt.style.use('seaborn')\n",
    "plt.plot(x_Toy_test_, preds_knn_t_lin_, color = 'b', label='Predictions')\n",
    "plt.scatter(x_Toy_test_, y_Toy_test_, color = 'r', label='Ytest')\n",
    "plt.legend(prop={'size': 13})\n",
    "plt.title('KNN on Linear - w noise', fontsize=20)\n",
    "plt.xlim(-5,5)\n",
    "\n",
    "plt.xlabel('$\\mathbf{X}_{toy}$', size = 13)\n",
    "plt.ylabel('$\\mathbf{Y}_{toy}$', size = 13)\n",
    "\n",
    "\n",
    "plt.show()"
   ]
  },
  {
   "cell_type": "markdown",
   "metadata": {},
   "source": [
    "#### Sinusoidal (with noise)"
   ]
  },
  {
   "cell_type": "code",
   "execution_count": 31,
   "metadata": {},
   "outputs": [],
   "source": [
    "preds_knn_t_sin = model_knn_t_sin.predict(dist_matrix_toy_sin, ysin_Toy, k_toy_sin)\n",
    "preds_knn_t_sin_ = preds_knn_t_sin[np.argsort(xsin_Toy_test)]"
   ]
  },
  {
   "cell_type": "code",
   "execution_count": 32,
   "metadata": {},
   "outputs": [
    {
     "data": {
      "image/png": "[encoded data removed]",
      "text/plain": [
       "<Figure size 576x396 with 1 Axes>"
      ]
     },
     "metadata": {},
     "output_type": "display_data"
    }
   ],
   "source": [
    "plt.style.use('seaborn')\n",
    "plt.plot(xsin_Toy_test_, preds_knn_t_sin_, color = 'b', label='Predictions')\n",
    "plt.scatter(xsin_Toy_test_, ysin_Toy_test_, color = 'r', label='Ytest')\n",
    "plt.legend(prop={'size': 13})\n",
    "plt.title('KNN on Sinusoidal - w noise', fontsize=20)\n",
    "plt.xlim(-5,5)\n",
    "\n",
    "plt.xlabel('$\\mathbf{X}_{toy}$', size = 13)\n",
    "plt.ylabel('$\\mathbf{Y}_{toy}$', size = 13)\n",
    "\n",
    "plt.show()"
   ]
  },
  {
   "cell_type": "markdown",
   "metadata": {},
   "source": [
    "# 3) Random Forest"
   ]
  },
  {
   "cell_type": "code",
   "execution_count": 33,
   "metadata": {},
   "outputs": [],
   "source": [
    "class Random_Forest():\n",
    "    \n",
    "    def split(self, x, y):\n",
    "    \n",
    "        var_start = np.var(y)*len(y)\n",
    "\n",
    "        best = {'infogain' : -np.inf}\n",
    "        \n",
    "        if len(x.shape) == 1:\n",
    "            x = x[:,None]\n",
    "            \n",
    "        for i in range(x.shape[1]):\n",
    "            for split in np.linspace(np.min(np.unique(x[:,i])),np.max(np.unique(x[:,i])),20):\n",
    "                left = x[:,i]<=split\n",
    "                right = x[:,i]>split #include split value on both sides to alleviate risk of left/right bias\n",
    "\n",
    "                var_left = np.var(y[left])*len(y[left])\n",
    "                var_right = np.var(y[right])*len(y[right])\n",
    "\n",
    "                infogain = var_start - (var_left + var_right)\n",
    "\n",
    "                if infogain > best['infogain']:\n",
    "                    best = {'feature' : i,\n",
    "                                'split' : split,\n",
    "                                'infogain' : infogain, \n",
    "                                'left_indices' : np.where(left)[0],\n",
    "                                'right_indices' : np.where(right)[0]}\n",
    "\n",
    "        return best\n",
    "\n",
    "\n",
    "    def tree(self, x, y, leaf_threshold, m_depth = np.inf):\n",
    "        \n",
    "        if len(x.shape) == 1:\n",
    "            x = x[:,None]\n",
    "        \n",
    "        if m_depth==1 or len(y) <= leaf_threshold:\n",
    "\n",
    "            return {'leaf' : True, 'prediction' : np.mean(y)}\n",
    "\n",
    "        else:\n",
    "            split_ = self.split(x, y)\n",
    "\n",
    "            left = self.tree(x[split_['left_indices'],:], \n",
    "                             y[split_['left_indices']], leaf_threshold, m_depth - 1)\n",
    "            right = self.tree(x[split_['right_indices'],:], \n",
    "                              y[split_['right_indices']], leaf_threshold, m_depth - 1)\n",
    "\n",
    "            return {'leaf' : False,\n",
    "                    'feature' : split_['feature'],\n",
    "                    'split' : split_['split'],\n",
    "                    'infogain' : split_['infogain'],\n",
    "                    'left' : left,\n",
    "                    'right' : right}\n",
    "        \n",
    "    def RF(self, x, y, no_trees=10, leaf_threshold = 10, m_depth = 40, samplesize=4000):\n",
    "        Random_forest = []\n",
    "        for i in tqdm(range(no_trees)):\n",
    "            exemplars = np.random.choice(len(x), samplesize, replace=True)\n",
    "\n",
    "            bag_xtrain = x[exemplars]\n",
    "\n",
    "            bag_ytrain = y[exemplars]\n",
    "\n",
    "            Random_forest.append(self.tree(bag_xtrain, bag_ytrain, leaf_threshold, m_depth))\n",
    "\n",
    "        return Random_forest\n",
    "    \n",
    "    \n",
    "    def build_predicts(self, tree, testdata):\n",
    "        \n",
    "        if len(testdata.shape) == 1:\n",
    "            testdata = testdata[:, None]\n",
    "        \n",
    "        build = np.empty(testdata.shape[0], dtype=float)\n",
    "        build.fill(-1)\n",
    "        indx = np.arange(testdata.shape[0])\n",
    "\n",
    "        def traverse(node, indx):\n",
    "            nonlocal testdata\n",
    "            nonlocal build\n",
    "\n",
    "            if node['leaf']:\n",
    "                build[indx] = node['prediction']\n",
    "\n",
    "            else:\n",
    "                going_left = testdata[indx, node['feature']] <= node['split']\n",
    "                left_indices = indx[going_left]\n",
    "                right_indices = indx[np.logical_not(going_left)]\n",
    "\n",
    "                if left_indices.shape[0] > 0:\n",
    "                    traverse(node['left'], left_indices)\n",
    "\n",
    "                if right_indices.shape[0] > 0:\n",
    "                    traverse(node['right'], right_indices)\n",
    "\n",
    "        traverse(tree, indx)\n",
    "        return build\n",
    "    \n",
    "    def predict(self, rf, Xt):\n",
    "        \n",
    "        predictions_ = []\n",
    "        for tree in rf:\n",
    "            predictions_.append(model_RF.build_predicts(tree, Xt))\n",
    "\n",
    "        stack = np.zeros((len(predictions_[0]),len(predictions_)))\n",
    "\n",
    "        for g in range(len(predictions_)):\n",
    "            stack[:,g] = predictions_[g]\n",
    "\n",
    "        predictions = np.mean(stack, axis=-1)\n",
    "        \n",
    "        return predictions"
   ]
  },
  {
   "cell_type": "markdown",
   "metadata": {},
   "source": [
    "### SARCOS RF"
   ]
  },
  {
   "cell_type": "code",
   "execution_count": 34,
   "metadata": {},
   "outputs": [
    {
     "data": {
      "application/vnd.jupyter.widget-view+json": {
       "model_id": "dbcd6cb84b67461da02035f13cd744b8",
       "version_major": 2,
       "version_minor": 0
      },
      "text/plain": [
       "  0%|          | 0/10 [00:00<?, ?it/s]"
      ]
     },
     "metadata": {},
     "output_type": "display_data"
    },
    {
     "name": "stderr",
     "output_type": "stream",
     "text": [
      "/Users/johannesdonald/python/lib/python3.8/site-packages/numpy/core/fromnumeric.py:3583: RuntimeWarning: Degrees of freedom <= 0 for slice\n",
      "  return _methods._var(a, axis=axis, dtype=dtype, out=out, ddof=ddof,\n",
      "/Users/johannesdonald/python/lib/python3.8/site-packages/numpy/core/_methods.py:185: RuntimeWarning: invalid value encountered in true_divide\n",
      "  arrmean = um.true_divide(\n",
      "/Users/johannesdonald/python/lib/python3.8/site-packages/numpy/core/_methods.py:209: RuntimeWarning: invalid value encountered in double_scalars\n",
      "  ret = ret.dtype.type(ret / rcount)\n"
     ]
    }
   ],
   "source": [
    "idx_rf =round(0.6*xt.shape[0])\n",
    "xt_rf = xt[:idx_rf]\n",
    "yt_rf = yt[:idx_rf]\n",
    "\n",
    "model_RF = Random_Forest()\n",
    "rf = model_RF.RF(xt_rf,yt_rf,10,10,100, 1000)\n",
    "predictions_rf = model_RF.predict(rf, xtst)"
   ]
  },
  {
   "cell_type": "code",
   "execution_count": 35,
   "metadata": {},
   "outputs": [
    {
     "data": {
      "text/plain": [
       "18.591427479464095"
      ]
     },
     "execution_count": 35,
     "metadata": {},
     "output_type": "execute_result"
    }
   ],
   "source": [
    "calc_mse(predictions_rf, ytst)"
   ]
  },
  {
   "cell_type": "markdown",
   "metadata": {},
   "source": [
    "### Toy Problem RF\n",
    "\n",
    "Linear"
   ]
  },
  {
   "cell_type": "code",
   "execution_count": 36,
   "metadata": {},
   "outputs": [
    {
     "data": {
      "application/vnd.jupyter.widget-view+json": {
       "model_id": "d778e63f180841a0bbead0b247bf56da",
       "version_major": 2,
       "version_minor": 0
      },
      "text/plain": [
       "  0%|          | 0/100 [00:00<?, ?it/s]"
      ]
     },
     "metadata": {},
     "output_type": "display_data"
    }
   ],
   "source": [
    "model_RF_t_lin = Random_Forest()\n",
    "rf_t_lin = model_RF_t_lin.RF(x_Toy, y_Toy, 100, 10, 40, 500)\n",
    "predictions_rf_t_lin = model_RF.predict(rf_t_lin, x_Toy_test)"
   ]
  },
  {
   "cell_type": "code",
   "execution_count": 37,
   "metadata": {},
   "outputs": [
    {
     "data": {
      "text/plain": [
       "0.011423254685936017"
      ]
     },
     "execution_count": 37,
     "metadata": {},
     "output_type": "execute_result"
    }
   ],
   "source": [
    "calc_mse(predictions_rf_t_lin, y_Toy_test)"
   ]
  },
  {
   "cell_type": "markdown",
   "metadata": {},
   "source": [
    "Sinusoidal "
   ]
  },
  {
   "cell_type": "code",
   "execution_count": 38,
   "metadata": {},
   "outputs": [
    {
     "data": {
      "application/vnd.jupyter.widget-view+json": {
       "model_id": "5dca285a0f964dfc9cc1a7b80395e7ec",
       "version_major": 2,
       "version_minor": 0
      },
      "text/plain": [
       "  0%|          | 0/100 [00:00<?, ?it/s]"
      ]
     },
     "metadata": {},
     "output_type": "display_data"
    }
   ],
   "source": [
    "model_RF_t_sin = Random_Forest()\n",
    "rf_t_sin = model_RF_t_sin.RF(xsin_Toy, ysin_Toy, 100, 10, 40, 500)\n",
    "predictions_rf_t_sin = model_RF.predict(rf_t_sin, xsin_Toy_test)"
   ]
  },
  {
   "cell_type": "code",
   "execution_count": 39,
   "metadata": {},
   "outputs": [
    {
     "data": {
      "text/plain": [
       "0.013474129501281837"
      ]
     },
     "execution_count": 39,
     "metadata": {},
     "output_type": "execute_result"
    }
   ],
   "source": [
    "calc_mse(predictions_rf_t_sin, ysin_Toy_test)"
   ]
  },
  {
   "cell_type": "markdown",
   "metadata": {},
   "source": [
    "### Plots for RF Toy Problem"
   ]
  },
  {
   "cell_type": "markdown",
   "metadata": {},
   "source": [
    "#### Linear (with noise)"
   ]
  },
  {
   "cell_type": "code",
   "execution_count": 40,
   "metadata": {},
   "outputs": [],
   "source": [
    "predictions_rf_t_lin_ = predictions_rf_t_lin[np.argsort(x_Toy_test)]"
   ]
  },
  {
   "cell_type": "code",
   "execution_count": 41,
   "metadata": {},
   "outputs": [
    {
     "data": {
      "image/png": "[encoded data removed]",
      "text/plain": [
       "<Figure size 576x396 with 1 Axes>"
      ]
     },
     "metadata": {},
     "output_type": "display_data"
    }
   ],
   "source": [
    "plt.style.use('seaborn')\n",
    "plt.plot(x_Toy_test_, predictions_rf_t_lin_, color = 'b', label='Predictions')\n",
    "plt.scatter(x_Toy_test_, y_Toy_test_, color = 'r', label='Ytest')\n",
    "plt.legend(prop={'size': 13})\n",
    "plt.title('RF on Linear - w noise', fontsize=20)\n",
    "plt.xlim(-5,5)\n",
    "\n",
    "plt.xlabel('$\\mathbf{X}_{toy}$', size = 13)\n",
    "plt.ylabel('$\\mathbf{Y}_{toy}$', size = 13)\n",
    "\n",
    "\n",
    "plt.show()"
   ]
  },
  {
   "cell_type": "markdown",
   "metadata": {},
   "source": [
    "#### Sinusoidal (with noise)"
   ]
  },
  {
   "cell_type": "code",
   "execution_count": 42,
   "metadata": {},
   "outputs": [],
   "source": [
    "predictions_rf_t_sin_ = predictions_rf_t_sin[np.argsort(x_Toy_test)]"
   ]
  },
  {
   "cell_type": "code",
   "execution_count": 43,
   "metadata": {},
   "outputs": [
    {
     "data": {
      "image/png": "[encoded data removed]",
      "text/plain": [
       "<Figure size 576x396 with 1 Axes>"
      ]
     },
     "metadata": {},
     "output_type": "display_data"
    }
   ],
   "source": [
    "plt.style.use('seaborn')\n",
    "plt.plot(xsin_Toy_test_, predictions_rf_t_sin_, color = 'b', label='Predictions')\n",
    "plt.scatter(xsin_Toy_test_, ysin_Toy_test_, color = 'r', label='Ytest')\n",
    "plt.legend(prop={'size': 13})\n",
    "plt.title('RF on Sinusoidal - w noise', fontsize=20)\n",
    "plt.xlim(-5,5)\n",
    "\n",
    "plt.xlabel('$\\mathbf{X}_{toy}$', size = 13)\n",
    "plt.ylabel('$\\mathbf{Y}_{toy}$', size = 13)\n",
    "\n",
    "plt.show()"
   ]
  },
  {
   "cell_type": "markdown",
   "metadata": {},
   "source": [
    "# 4) Gaussian Process"
   ]
  },
  {
   "cell_type": "markdown",
   "metadata": {},
   "source": [
    "#### GP Code"
   ]
  },
  {
   "cell_type": "code",
   "execution_count": null,
   "metadata": {},
   "outputs": [],
   "source": [
    "# ## IMPORTANT!!!!!! if running on sarcos use Kernel 2 using Cdist (in commented code below)\n",
    "# def kernel(x1,x2,l,s):\n",
    "\n",
    "#     euc_dist_2 = np.sum(np.square(x1[:,None]-x2[None]),axis=-1)\n",
    "    \n",
    "#     k = s * np.exp(-0.5 * euc_dist_2/(l**2))\n",
    "    \n",
    "#     return k"
   ]
  },
  {
   "cell_type": "code",
   "execution_count": null,
   "metadata": {},
   "outputs": [],
   "source": [
    "##Kernel 2 using Cdist\n",
    "def kernel(x1,x2,l,s):\n",
    "\n",
    "    euc_dist_2 = np.square(distance.cdist(x1,x2, 'euclidean'))\n",
    "    \n",
    "    k = s * np.exp(-0.5 * euc_dist_2/(l**2))\n",
    "    \n",
    "    return k"
   ]
  },
  {
   "cell_type": "code",
   "execution_count": null,
   "metadata": {},
   "outputs": [],
   "source": [
    "def n_loglikelihood(xt, yt):\n",
    "    \n",
    "    def  optimization(hps): \n",
    "        #Hyperparameters used optimized from scipy minimizing function, minimizing negative loglikelihood\n",
    "        n      =len(xt)\n",
    "        \n",
    "        l      =hps[0]\n",
    "        \n",
    "        s      =hps[1]\n",
    "        \n",
    "        sig    =hps[2]\n",
    "        \n",
    "        k_sig_I = kernel(xt, xt, l, s) + sig**2 * np.eye(n)\n",
    "        \n",
    "        k_sig_I_inv = np.linalg.inv(k_sig_I)\n",
    "        \n",
    "        k_sig_I_det = np.linalg.det(k_sig_I)\n",
    "        \n",
    "        loglikelihood = -(n/2) * np.log(2*np.pi) - (1/2) * np.log(k_sig_I_det) - (1/2) * yt.T @ k_sig_I_inv @ yt        \n",
    "        \n",
    "        negativeloglhood= -1 * loglikelihood\n",
    "        \n",
    "        return negativeloglhood\n",
    "    return optimization"
   ]
  },
  {
   "cell_type": "code",
   "execution_count": null,
   "metadata": {},
   "outputs": [],
   "source": [
    "def posteriors(xtst, xt, yt, l, s, sig):\n",
    "    \n",
    "    n = len(xt)\n",
    "    \n",
    "    k_sig_I = kernel(xt, xt, l, s) + np.square(sig) * np.eye(n)\n",
    "    \n",
    "    k_t_tst = kernel(xt, xtst, l, s)\n",
    "        \n",
    "    k_tst = kernel(xtst, xtst, l, s)\n",
    "        \n",
    "    k_sig_I_inv = np.linalg.inv(k_sig_I)\n",
    "\n",
    "    #Predictions/mu-vector\n",
    "    mu = k_t_tst.T @ k_sig_I_inv @ yt\n",
    "\n",
    "    #Covariance matrix\n",
    "    cov = k_tst - k_t_tst.T @ k_sig_I_inv @ k_t_tst\n",
    "\n",
    "    return mu, cov"
   ]
  },
  {
   "cell_type": "code",
   "execution_count": null,
   "metadata": {},
   "outputs": [],
   "source": [
    "#Implementing the scipy.optimize  minimize fucntion in order to tune s,l,sig**2 in order to minimize \n",
    "#the n_log_likelihood value thus optimizing the hyperparameters. \n",
    "#these are initiated as 1,1,1 in the minize function\n",
    "def Hp_tuning(xt, yt, xtst):\n",
    "\n",
    "    Optimized = minimize(n_loglikelihood(xt, yt), [1, 1, 1], bounds=((1e-8, None), (1e-8, None),(1e-8, None)), method='Nelder-Mead') \n",
    "    \n",
    "    return Optimized"
   ]
  },
  {
   "cell_type": "code",
   "execution_count": null,
   "metadata": {},
   "outputs": [],
   "source": [
    "%%time\n",
    "#By storing the optimized hyperparams under Optimized we then run the posterior function to generate the predicions\n",
    "Optimized = Hp_tuning(xt, yt, xtst)"
   ]
  },
  {
   "cell_type": "code",
   "execution_count": null,
   "metadata": {},
   "outputs": [],
   "source": [
    "# %%time\n",
    "# mu, cov = posteriors(xtst, xt, yt, Optimized.x[0], Optimized.x[1], Optimized.x[2])"
   ]
  },
  {
   "cell_type": "code",
   "execution_count": null,
   "metadata": {},
   "outputs": [],
   "source": [
    "%%time\n",
    "#batching tests\n",
    "test_size = sarcos.shape[0] *0.70\n",
    "start = round(test_size*0.1)\n",
    "\n",
    "batch1x = xtst[:start,:]\n",
    "batch2x = xtst[start:(2*start),:]\n",
    "batch3x = xtst[(2*start):(3*start),:]\n",
    "batch4x = xtst[(3*start):(4*start),:]\n",
    "batch5x = xtst[(4*start):(5*start),:]\n",
    "batch6x = xtst[(5*start):(6*start),:]\n",
    "batch7x = xtst[(6*start):(7*start),:]\n",
    "batch8x = xtst[(7*start):(8*start),:]\n",
    "batch9x = xtst[(8*start):(9*start),:]\n",
    "batch10x = xtst[(9*start):,:]"
   ]
  },
  {
   "cell_type": "code",
   "execution_count": null,
   "metadata": {},
   "outputs": [],
   "source": [
    "%%time\n",
    "l = Optimized.x[0]\n",
    "s =  Optimized.x[1]\n",
    "sig_2 = Optimized.x[2]\n",
    "\n",
    "mu1, cov1 = posteriors(batch1x, xt, yt, l, s, sig_2)\n",
    "mu2, cov2 = posteriors(batch2x, xt, yt, l, s, sig_2)\n",
    "mu3, cov3 = posteriors(batch3x, xt, yt, l, s, sig_2)\n",
    "mu4, cov4 = posteriors(batch4x, xt, yt, l, s, sig_2)\n",
    "mu5, cov5 = posteriors(batch5x, xt, yt, l, s, sig_2)\n",
    "mu6, cov6 = posteriors(batch6x, xt, yt, l, s, sig_2)\n",
    "mu7, cov7 = posteriors(batch7x, xt, yt, l, s, sig_2)\n",
    "mu8, cov8 = posteriors(batch8x, xt, yt, l, s, sig_2)\n",
    "mu9, cov9 = posteriors(batch9x, xt, yt, l, s, sig_2)\n",
    "mu10, cov10 = posteriors(batch10x, xt, yt, l, s, sig_2)"
   ]
  },
  {
   "cell_type": "code",
   "execution_count": null,
   "metadata": {},
   "outputs": [],
   "source": [
    "mu_concat = np.concatenate((mu1,mu2,mu3,mu4,mu5,mu6,mu7,mu8,mu9,mu10))"
   ]
  },
  {
   "cell_type": "code",
   "execution_count": null,
   "metadata": {},
   "outputs": [],
   "source": [
    "np.mean(np.square(ytst-mu_concat))"
   ]
  },
  {
   "cell_type": "code",
   "execution_count": null,
   "metadata": {},
   "outputs": [],
   "source": [
    "# ##Reorder and stdv calculation\n",
    "# # mu_ = [i[0] for i in mu]\n",
    "# # mu_ = np.array(mu_) \n",
    "# mu_ = mu[re_order]\n",
    "\n",
    "# stdv = np.sqrt(np.diag(cov))\n",
    "# stdv__ = stdv[re_order]\n",
    "# stdv_ = stdv__*1.96\n",
    "\n",
    "# upper = mu_ + stdv_\n",
    "# lower = mu_ - stdv_"
   ]
  },
  {
   "cell_type": "code",
   "execution_count": null,
   "metadata": {},
   "outputs": [],
   "source": [
    "# import matplotlib.pyplot as plt\n",
    "# %matplotlib inline\n",
    "\n",
    "# plt.figure(figsize=(10,10))\n",
    "# plt.plot(xtst_sorted, mu_, color = 'b', label='Mu')\n",
    "# plt.scatter(xtst_sorted,ytst_sorted, color = 'r', label='Ytest')\n",
    "# plt.legend(prop={'size': 15})\n",
    "# plt.title('Sinusoidal - w noise', fontsize=20)\n",
    "# plt.ylim(3,7)\n",
    "# plt.xlim(-3.5,3.5)\n",
    "# plt.fill_between(xtst_sorted, upper, lower, alpha=0.3)\n",
    "\n",
    "\n",
    "# # line_up, = plt.plot([1,2,3], label='Line 2')\n",
    "# # line_down, = plt.plot([3,2,1], label='Line 1')\n",
    "# # plt.legend([line_up, line_down], ['Line Up', 'Line Down'])\n",
    "\n",
    "# #plt.show()\n",
    "# #plt.savefig('GP-Sinu-n', transparent=False)\n"
   ]
  },
  {
   "cell_type": "markdown",
   "metadata": {},
   "source": [
    "#### Gradient Ascent attempt"
   ]
  },
  {
   "cell_type": "code",
   "execution_count": null,
   "metadata": {},
   "outputs": [],
   "source": [
    "import numpy as np\n",
    "import pandas as pd\n",
    "from sklearn.model_selection import train_test_split\n",
    "from tqdm import tqdm_notebook as tqdm\n",
    "from scipy.linalg import cho_solve, solve_triangular"
   ]
  },
  {
   "cell_type": "code",
   "execution_count": null,
   "metadata": {},
   "outputs": [],
   "source": [
    "def euc_dist_2(x1, x2):\n",
    "    euc_dist_2 = np.square(distance.cdist(x1,x2, 'euclidean'))\n",
    "    \n",
    "    return euc_dist_2"
   ]
  },
  {
   "cell_type": "code",
   "execution_count": null,
   "metadata": {},
   "outputs": [],
   "source": [
    "#Preprocess and store distance matrix\n",
    "dist = euc_dist_2(xt,xt)\n",
    "print('dist done')\n",
    "#for posterior predictive:\n",
    "# dist_xtr_xtst = euc_dist_2(xt, xtst)\n",
    "# print('dist2 done')\n",
    "# dist_xtst_xtst = euc_dist_2(xt, xtst)\n",
    "# print('dist3 done')"
   ]
  },
  {
   "cell_type": "code",
   "execution_count": null,
   "metadata": {},
   "outputs": [],
   "source": [
    "def kernel_funct(dist, l, s):\n",
    "    k = s * np.exp(-dist/l)\n",
    "    return k"
   ]
  },
  {
   "cell_type": "code",
   "execution_count": null,
   "metadata": {},
   "outputs": [],
   "source": [
    "def gradients(k, k_sig_I_inv, dist, l, s, sig_2, y, I):\n",
    "    \n",
    "    \n",
    "    #works\n",
    "    #gradient\n",
    "    #minus by log(theta): the maximum a posterior\n",
    "    logsig_sq = (sig_2/2)*-np.trace(k_sig_I_inv)+(1/2)*(y.T @ k_sig_I_inv @ k_sig_I_inv @ y) \n",
    "    #logsig_sq = 0\n",
    "    #works\n",
    "    logs = 0.5 * ((-np.trace(k_sig_I_inv @ k)) + (y.T @ k_sig_I_inv @ k @ k_sig_I_inv @ y)) \n",
    "    #logs = 0\n",
    "    logl = 0.5 * ((-np.trace(k_sig_I_inv @ ((dist/l)*k)))+ (y.T @ k_sig_I_inv @ ((dist/l)*k) @ k_sig_I_inv @ y)) \n",
    "    \n",
    "    print('\\r' + ' ' * 100, end = '')\n",
    "    print(f'\\rgrad {logsig_sq}, {logs}, {logl}', end = '')\n",
    "    \n",
    "    return logsig_sq, logs, logl"
   ]
  },
  {
   "cell_type": "code",
   "execution_count": null,
   "metadata": {},
   "outputs": [],
   "source": [
    "def loglikelihood(l_det_k_s, k_sig_I, k_sig_I_inv, dist, l, s, sig_2, y, n):\n",
    "    \n",
    "    cost_function = -(0.5*n)*np.log(np.pi*2)-0.5*l_det_k_s-(0.5*y.T)@k_sig_I_inv@y\n",
    "    print('/n')\n",
    "    print('loglikelihood',cost_function)\n",
    "    return cost_function"
   ]
  },
  {
   "cell_type": "code",
   "execution_count": null,
   "metadata": {},
   "outputs": [],
   "source": [
    "def run_iteration(k, k_sig_I_inv, dist, l, s, sig_2, y, n, step_size):\n",
    "    \n",
    "    lsig2, ls, ll = gradients(k, k_sig_I_inv, dist, l, s, sig_2, y, n)\n",
    "    \n",
    "    new_lsig_2 = np.log(sig_2) + (step_size * lsig2)\n",
    "\n",
    "    new_ls = np.log(s) + (step_size * ls)\n",
    "    \n",
    "    new_l = np.log(l) + (step_size * ll)\n",
    "    \n",
    "    n_sig_2 = np.exp(new_lsig_2)\n",
    "    n_s = np.exp(new_ls)\n",
    "    n_l = np.exp(new_l)\n",
    "    \n",
    "    return n_sig_2, n_s, n_l\n",
    "    \n",
    "    "
   ]
  },
  {
   "cell_type": "code",
   "execution_count": null,
   "metadata": {},
   "outputs": [],
   "source": [
    "#Gradient Ascent\n",
    "n = len(xt)\n",
    "I = np.identity(n)\n",
    "s= 1\n",
    "l= 1\n",
    "sig_2 = 1\n",
    "step_size = 1e-5\n",
    "num_iterations = 10000\n",
    "\n",
    "\n",
    "for iterations in tqdm(range(num_iterations), leave = False):\n",
    "    k = kernel_funct(dist, l, s)\n",
    "    k_sig_I = (k + sig_2 * I)\n",
    "    #k_sig_I_inv = np.linalg.inv(k_sig_I)\n",
    "    L  = np.linalg.cholesky(k_sig_I)\n",
    "    I_  = np.eye(n)\n",
    "    k_sig_I_inv = cho_solve((L, True), I_)\n",
    "    \n",
    "    Li = solve_triangular(L, I_, lower = True)\n",
    "    l_det_k_s = 2 * np.log(np.diag(Li)).sum()\n",
    "    \n",
    "    sig_2_new, s_new, l_new =  run_iteration(k, k_sig_I_inv, dist, l, s, sig_2, yt, n, step_size)\n",
    "    loglikelihood(l_det_k_s, k_sig_I, k_sig_I_inv, dist, l, s, sig_2, yt, n)\n",
    "    \n",
    "    old_params = [np.log(sig_2), np.log(s), np.log(l)]\n",
    "    params = [np.log(sig_2_new), np.log(s_new), np.log(l_new)]\n",
    "    if np.allclose(params,old_params) == True:\n",
    "        print('\\nconverged!')\n",
    "        break\n",
    "    else:\n",
    "        sig_2 = sig_2_new\n",
    "        s = s_new\n",
    "        l = l_new\n",
    "    "
   ]
  },
  {
   "cell_type": "code",
   "execution_count": null,
   "metadata": {},
   "outputs": [],
   "source": [
    "def posterior_predictive(xt, xtst, dist, dist_xtr_xtst, dist_xtst_xtst, l, s, sig_2):\n",
    "    n_tr = len(xt)\n",
    "    n_tst = len(xtst)\n",
    "    I_tr = np.identity(n_tr)\n",
    "    I_tst = np.identity(n_tst)\n",
    "    k = kernel_funct(dist, l, s)\n",
    "    k_sig_I = k + sig_2 * I_tr\n",
    "    \n",
    "    k_t_tst = kernel_funct(dist_xtr_xtst, l, s)\n",
    "    \n",
    "    k_tst = kernel_funct(dist_xtst_xtst, l, s)\n",
    "    \n",
    "    k_tst_sig_I = k_tst + sig_2 * I_tst\n",
    "    \n",
    "    k_sig_I_inv = np.linalg.inv(k_sig_I)\n",
    "    \n",
    "    mu = k_t_tst.T @ k_sig_I_inv @ y_tr\n",
    "    \n",
    "    cov = k_tst_sig_I - (k_t_tst.T @ k_sig_I_inv @ k_t_tst)\n",
    "    \n",
    "    return mu, cov"
   ]
  },
  {
   "cell_type": "code",
   "execution_count": null,
   "metadata": {},
   "outputs": [],
   "source": [
    "%%time\n",
    "#batching tests\n",
    "test_size = sarcos.shape[0] *0.70\n",
    "start = round(test_size*0.1)\n",
    "\n",
    "batch1x = xtst[:start,:]\n",
    "batch2x = xtst[start:(2*start),:]\n",
    "batch3x = xtst[(2*start):(3*start),:]\n",
    "batch4x = xtst[(3*start):(4*start),:]\n",
    "batch5x = xtst[(4*start):(5*start),:]\n",
    "batch6x = xtst[(5*start):(6*start),:]\n",
    "batch7x = xtst[(6*start):(7*start),:]\n",
    "batch8x = xtst[(7*start):(8*start),:]\n",
    "batch9x = xtst[(8*start):(9*start),:]\n",
    "batch10x = xtst[(9*start):,:]"
   ]
  },
  {
   "cell_type": "code",
   "execution_count": null,
   "metadata": {},
   "outputs": [],
   "source": [
    "#### GP Code\n",
    "\n",
    "# ## IMPORTANT!!!!!! if running on sarcos use Kernel 2 using Cdist (in commented code below)\n",
    "# def kernel(x1,x2,l,s):\n",
    "\n",
    "#     euc_dist_2 = np.sum(np.square(x1[:,None]-x2[None]),axis=-1)\n",
    "    \n",
    "#     k = s * np.exp(-0.5 * euc_dist_2/(l**2))\n",
    "    \n",
    "#     return k\n",
    "\n",
    "##Kernel 2 using Cdist\n",
    "def kernel(x1,x2,l,s):\n",
    "\n",
    "    euc_dist_2 = np.square(distance.cdist(x1,x2, 'euclidean'))\n",
    "    \n",
    "    k = s * np.exp(-0.5 * euc_dist_2/(l**2))\n",
    "    \n",
    "    return k\n",
    "\n",
    "def n_loglikelihood(xt, yt):\n",
    "    \n",
    "    def  optimization(hps): \n",
    "        #Hyperparameters used optimized from scipy minimizing function, minimizing negative loglikelihood\n",
    "        n      =len(xt)\n",
    "        \n",
    "        l      =hps[0]\n",
    "        \n",
    "        s      =hps[1]\n",
    "        \n",
    "        sig    =hps[2]\n",
    "        \n",
    "        k_sig_I = kernel(xt, xt, l, s) + sig**2 * np.eye(n)\n",
    "        \n",
    "        k_sig_I_inv = np.linalg.inv(k_sig_I)\n",
    "        \n",
    "        k_sig_I_det = np.linalg.det(k_sig_I)\n",
    "        \n",
    "        loglikelihood = -(n/2) * np.log(2*np.pi) - (1/2) * np.log(k_sig_I_det) - (1/2) * yt.T @ k_sig_I_inv @ yt        \n",
    "        \n",
    "        negativeloglhood= -1 * loglikelihood\n",
    "        \n",
    "        return negativeloglhood\n",
    "    return optimization\n",
    "\n",
    "def posteriors(xtst, xt, yt, l, s, sig):\n",
    "    \n",
    "    n = len(xt)\n",
    "    \n",
    "    k_sig_I = kernel(xt, xt, l, s) + np.square(sig) * np.eye(n)\n",
    "    \n",
    "    k_t_tst = kernel(xt, xtst, l, s)\n",
    "        \n",
    "    k_tst = kernel(xtst, xtst, l, s)\n",
    "        \n",
    "    k_sig_I_inv = np.linalg.inv(k_sig_I)\n",
    "\n",
    "    #Predictions/mu-vector\n",
    "    mu = k_t_tst.T @ k_sig_I_inv @ yt\n",
    "\n",
    "    #Covariance matrix\n",
    "    cov = k_tst - k_t_tst.T @ k_sig_I_inv @ k_t_tst\n",
    "\n",
    "    return mu, cov\n",
    "\n",
    "#Implementing the scipy.optimize  minimize fucntion in order to tune s,l,sig**2 in order to minimize \n",
    "#the n_log_likelihood value thus optimizing the hyperparameters. \n",
    "#these are initiated as 1,1,1 in the minize function\n",
    "def Hp_tuning(xt, yt, xtst):\n",
    "\n",
    "    Optimized = minimize(n_loglikelihood(xt, yt), [1, 1, 1], bounds=((1e-8, None), (1e-8, None),(1e-8, None)), method='Nelder-Mead') \n",
    "    \n",
    "    return Optimized\n",
    "\n",
    "%%time\n",
    "#By storing the optimized hyperparams under Optimized we then run the posterior function to generate the predicions\n",
    "Optimized = Hp_tuning(xt, yt, xtst)\n",
    "\n",
    "# %%time\n",
    "# mu, cov = posteriors(xtst, xt, yt, Optimized.x[0], Optimized.x[1], Optimized.x[2])\n",
    "\n",
    "%%time\n",
    "#batching tests\n",
    "test_size = sarcos.shape[0] *0.70\n",
    "start = round(test_size*0.1)\n",
    "\n",
    "batch1x = xtst[:start,:]\n",
    "batch2x = xtst[start:(2*start),:]\n",
    "batch3x = xtst[(2*start):(3*start),:]\n",
    "batch4x = xtst[(3*start):(4*start),:]\n",
    "batch5x = xtst[(4*start):(5*start),:]\n",
    "batch6x = xtst[(5*start):(6*start),:]\n",
    "batch7x = xtst[(6*start):(7*start),:]\n",
    "batch8x = xtst[(7*start):(8*start),:]\n",
    "batch9x = xtst[(8*start):(9*start),:]\n",
    "batch10x = xtst[(9*start):,:]\n",
    "\n",
    "%%time\n",
    "l = Optimized.x[0]\n",
    "s =  Optimized.x[1]\n",
    "sig_2 = Optimized.x[2]\n",
    "\n",
    "mu1, cov1 = posteriors(batch1x, xt, yt, l, s, sig_2)\n",
    "mu2, cov2 = posteriors(batch2x, xt, yt, l, s, sig_2)\n",
    "mu3, cov3 = posteriors(batch3x, xt, yt, l, s, sig_2)\n",
    "mu4, cov4 = posteriors(batch4x, xt, yt, l, s, sig_2)\n",
    "mu5, cov5 = posteriors(batch5x, xt, yt, l, s, sig_2)\n",
    "mu6, cov6 = posteriors(batch6x, xt, yt, l, s, sig_2)\n",
    "mu7, cov7 = posteriors(batch7x, xt, yt, l, s, sig_2)\n",
    "mu8, cov8 = posteriors(batch8x, xt, yt, l, s, sig_2)\n",
    "mu9, cov9 = posteriors(batch9x, xt, yt, l, s, sig_2)\n",
    "mu10, cov10 = posteriors(batch10x, xt, yt, l, s, sig_2)\n",
    "\n",
    "mu_concat = np.concatenate((mu1,mu2,mu3,mu4,mu5,mu6,mu7,mu8,mu9,mu10))\n",
    "\n",
    "np.mean(np.square(ytst-mu_concat))\n",
    "\n",
    "# ##Reorder and stdv calculation\n",
    "# # mu_ = [i[0] for i in mu]\n",
    "# # mu_ = np.array(mu_) \n",
    "# mu_ = mu[re_order]\n",
    "\n",
    "# stdv = np.sqrt(np.diag(cov))\n",
    "# stdv__ = stdv[re_order]\n",
    "# stdv_ = stdv__*1.96\n",
    "\n",
    "# upper = mu_ + stdv_\n",
    "# lower = mu_ - stdv_\n",
    "\n",
    "# import matplotlib.pyplot as plt\n",
    "# %matplotlib inline\n",
    "\n",
    "# plt.figure(figsize=(10,10))\n",
    "# plt.plot(xtst_sorted, mu_, color = 'b', label='Mu')\n",
    "# plt.scatter(xtst_sorted,ytst_sorted, color = 'r', label='Ytest')\n",
    "# plt.legend(prop={'size': 15})\n",
    "# plt.title('Sinusoidal - w noise', fontsize=20)\n",
    "# plt.ylim(3,7)\n",
    "# plt.xlim(-3.5,3.5)\n",
    "# plt.fill_between(xtst_sorted, upper, lower, alpha=0.3)\n",
    "\n",
    "\n",
    "# # line_up, = plt.plot([1,2,3], label='Line 2')\n",
    "# # line_down, = plt.plot([3,2,1], label='Line 1')\n",
    "# # plt.legend([line_up, line_down], ['Line Up', 'Line Down'])\n",
    "\n",
    "# #plt.show()\n",
    "# #plt.savefig('GP-Sinu-n', transparent=False)\n",
    "\n",
    "\n",
    "#### Gradient Ascent attempt\n",
    "\n",
    "import numpy as np\n",
    "import pandas as pd\n",
    "from sklearn.model_selection import train_test_split\n",
    "from tqdm import tqdm_notebook as tqdm\n",
    "from scipy.linalg import cho_solve, solve_triangular\n",
    "\n",
    "def euc_dist_2(x1, x2):\n",
    "    euc_dist_2 = np.square(distance.cdist(x1,x2, 'euclidean'))\n",
    "    \n",
    "    return euc_dist_2\n",
    "\n",
    "#Preprocess and store distance matrix\n",
    "dist = euc_dist_2(xt,xt)\n",
    "print('dist done')\n",
    "#for posterior predictive:\n",
    "# dist_xtr_xtst = euc_dist_2(xt, xtst)\n",
    "# print('dist2 done')\n",
    "# dist_xtst_xtst = euc_dist_2(xt, xtst)\n",
    "# print('dist3 done')\n",
    "\n",
    "def kernel_funct(dist, l, s):\n",
    "    k = s * np.exp(-dist/l)\n",
    "    return k\n",
    "\n",
    "def gradients(k, k_sig_I_inv, dist, l, s, sig_2, y, I):\n",
    "    \n",
    "    \n",
    "    #works\n",
    "    #gradient\n",
    "    #minus by log(theta): the maximum a posterior\n",
    "    logsig_sq = (sig_2/2)*-np.trace(k_sig_I_inv)+(1/2)*(y.T @ k_sig_I_inv @ k_sig_I_inv @ y) \n",
    "    #logsig_sq = 0\n",
    "    #works\n",
    "    logs = 0.5 * ((-np.trace(k_sig_I_inv @ k)) + (y.T @ k_sig_I_inv @ k @ k_sig_I_inv @ y)) \n",
    "    #logs = 0\n",
    "    logl = 0.5 * ((-np.trace(k_sig_I_inv @ ((dist/l)*k)))+ (y.T @ k_sig_I_inv @ ((dist/l)*k) @ k_sig_I_inv @ y)) \n",
    "    \n",
    "    print('\\r' + ' ' * 100, end = '')\n",
    "    print(f'\\rgrad {logsig_sq}, {logs}, {logl}', end = '')\n",
    "    \n",
    "    return logsig_sq, logs, logl\n",
    "\n",
    "def loglikelihood(l_det_k_s, k_sig_I, k_sig_I_inv, dist, l, s, sig_2, y, n):\n",
    "    \n",
    "    cost_function = -(0.5*n)*np.log(np.pi*2)-0.5*l_det_k_s-(0.5*y.T)@k_sig_I_inv@y\n",
    "    print('/n')\n",
    "    print('loglikelihood',cost_function)\n",
    "    return cost_function\n",
    "\n",
    "def run_iteration(k, k_sig_I_inv, dist, l, s, sig_2, y, n, step_size):\n",
    "    \n",
    "    lsig2, ls, ll = gradients(k, k_sig_I_inv, dist, l, s, sig_2, y, n)\n",
    "    \n",
    "    new_lsig_2 = np.log(sig_2) + (step_size * lsig2)\n",
    "\n",
    "    new_ls = np.log(s) + (step_size * ls)\n",
    "    \n",
    "    new_l = np.log(l) + (step_size * ll)\n",
    "    \n",
    "    n_sig_2 = np.exp(new_lsig_2)\n",
    "    n_s = np.exp(new_ls)\n",
    "    n_l = np.exp(new_l)\n",
    "    \n",
    "    return n_sig_2, n_s, n_l\n",
    "    \n",
    "    \n",
    "\n",
    "#Gradient Ascent\n",
    "n = len(xt)\n",
    "I = np.identity(n)\n",
    "s= 1\n",
    "l= 1\n",
    "sig_2 = 1\n",
    "step_size = 1e-5\n",
    "num_iterations = 10000\n",
    "\n",
    "\n",
    "for iterations in tqdm(range(num_iterations), leave = False):\n",
    "    k = kernel_funct(dist, l, s)\n",
    "    k_sig_I = (k + sig_2 * I)\n",
    "    #k_sig_I_inv = np.linalg.inv(k_sig_I)\n",
    "    L  = np.linalg.cholesky(k_sig_I)\n",
    "    I_  = np.eye(n)\n",
    "    k_sig_I_inv = cho_solve((L, True), I_)\n",
    "    \n",
    "    Li = solve_triangular(L, I_, lower = True)\n",
    "    l_det_k_s = 2 * np.log(np.diag(Li)).sum()\n",
    "    \n",
    "    sig_2_new, s_new, l_new =  run_iteration(k, k_sig_I_inv, dist, l, s, sig_2, yt, n, step_size)\n",
    "    loglikelihood(l_det_k_s, k_sig_I, k_sig_I_inv, dist, l, s, sig_2, yt, n)\n",
    "    \n",
    "    old_params = [np.log(sig_2), np.log(s), np.log(l)]\n",
    "    params = [np.log(sig_2_new), np.log(s_new), np.log(l_new)]\n",
    "    if np.allclose(params,old_params) == True:\n",
    "        print('\\nconverged!')\n",
    "        break\n",
    "    else:\n",
    "        sig_2 = sig_2_new\n",
    "        s = s_new\n",
    "        l = l_new\n",
    "    \n",
    "\n",
    "def posterior_predictive(xt, xtst, dist, dist_xtr_xtst, dist_xtst_xtst, l, s, sig_2):\n",
    "    n_tr = len(xt)\n",
    "    n_tst = len(xtst)\n",
    "    I_tr = np.identity(n_tr)\n",
    "    I_tst = np.identity(n_tst)\n",
    "    k = kernel_funct(dist, l, s)\n",
    "    k_sig_I = k + sig_2 * I_tr\n",
    "    \n",
    "    k_t_tst = kernel_funct(dist_xtr_xtst, l, s)\n",
    "    \n",
    "    k_tst = kernel_funct(dist_xtst_xtst, l, s)\n",
    "    \n",
    "    k_tst_sig_I = k_tst + sig_2 * I_tst\n",
    "    \n",
    "    k_sig_I_inv = np.linalg.inv(k_sig_I)\n",
    "    \n",
    "    mu = k_t_tst.T @ k_sig_I_inv @ y_tr\n",
    "    \n",
    "    cov = k_tst_sig_I - (k_t_tst.T @ k_sig_I_inv @ k_t_tst)\n",
    "    \n",
    "    return mu, cov\n",
    "\n",
    "%%time\n",
    "#batching tests\n",
    "test_size = sarcos.shape[0] *0.70\n",
    "start = round(test_size*0.1)\n",
    "\n",
    "batch1x = xtst[:start,:]\n",
    "batch2x = xtst[start:(2*start),:]\n",
    "batch3x = xtst[(2*start):(3*start),:]\n",
    "batch4x = xtst[(3*start):(4*start),:]\n",
    "batch5x = xtst[(4*start):(5*start),:]\n",
    "batch6x = xtst[(5*start):(6*start),:]\n",
    "batch7x = xtst[(6*start):(7*start),:]\n",
    "batch8x = xtst[(7*start):(8*start),:]\n",
    "batch9x = xtst[(8*start):(9*start),:]\n",
    "batch10x = xtst[(9*start):,:]"
   ]
  }
 ],
 "metadata": {
  "kernelspec": {
   "display_name": "Python 3",
   "language": "python",
   "name": "python3"
  },
  "language_info": {
   "codemirror_mode": {
    "name": "ipython",
    "version": 3
   },
   "file_extension": ".py",
   "mimetype": "text/x-python",
   "name": "python",
   "nbconvert_exporter": "python",
   "pygments_lexer": "ipython3",
   "version": "3.8.2"
  }
 },
 "nbformat": 4,
 "nbformat_minor": 2
}
