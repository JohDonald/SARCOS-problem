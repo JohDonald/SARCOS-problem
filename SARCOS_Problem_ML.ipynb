{
 "cells": [
  {
   "cell_type": "markdown",
   "metadata": {},
   "source": [
    "# SARCOS Dataset Problem \n",
    "----------------------------\n",
    "Models applied to the SARCOS Dataset:  \n",
    "Linear Regression  \n",
    "K-NN  \n",
    "RF  \n",
    "Gaussian Process  \n",
    "\n",
    "\n",
    "We also create a linear and sinusoidal toy problem to sense check the models."
   ]
  },
  {
   "cell_type": "code",
   "execution_count": 1,
   "metadata": {},
   "outputs": [],
   "source": [
    "import numpy as np\n",
    "import pandas as pd\n",
    "import scipy as sc\n",
    "import matplotlib.pyplot as plt\n",
    "\n",
    "from sklearn.model_selection import train_test_split\n",
    "from sklearn import preprocessing\n",
    "from tqdm.notebook import tqdm\n",
    "from scipy.spatial import distance\n",
    "from scipy.optimize import minimize"
   ]
  },
  {
   "cell_type": "markdown",
   "metadata": {},
   "source": [
    "### Toy problem/data"
   ]
  },
  {
   "cell_type": "code",
   "execution_count": 2,
   "metadata": {},
   "outputs": [],
   "source": [
    "#Toy 1D data set:\n",
    "#Sinusoidal:\n",
    "x_toy = np.linspace(-3,3,500)\n",
    "y_sin = np.sin(x_toy)*0.5 +5 + np.random.normal(size = 500)*0.1 #Adding noise to the toy problem\n",
    "#Linear:\n",
    "y_lin = 2*x_toy + 5 + np.random.normal(size = 500)*0.1 #Adding noise to the toy problem"
   ]
  },
  {
   "cell_type": "code",
   "execution_count": 3,
   "metadata": {},
   "outputs": [],
   "source": [
    "#Linear:\n",
    "x_Toy, x_Toy_test, y_Toy, y_Toy_test = train_test_split(x_toy, y_lin, test_size=0.20, random_state=101)\n",
    "\n",
    "#Sinusoidal:\n",
    "xsin_Toy, xsin_Toy_test, ysin_Toy, ysin_Toy_test = train_test_split(x_toy, y_sin, test_size=0.20, random_state=101)"
   ]
  },
  {
   "cell_type": "markdown",
   "metadata": {},
   "source": [
    "### Sarcos Data"
   ]
  },
  {
   "cell_type": "code",
   "execution_count": 4,
   "metadata": {},
   "outputs": [],
   "source": [
    "sarcos = pd.read_csv('sarcos_inv.csv', header = None).values"
   ]
  },
  {
   "cell_type": "code",
   "execution_count": 5,
   "metadata": {},
   "outputs": [],
   "source": [
    "xt_, xtst_, yt, ytst = train_test_split(sarcos[:,:-1], sarcos[:,-1], train_size=0.9, random_state=101)"
   ]
  },
  {
   "cell_type": "code",
   "execution_count": 6,
   "metadata": {},
   "outputs": [],
   "source": [
    "xtst_ = xtst_[:50]\n",
    "ytst = ytst[:50]"
   ]
  },
  {
   "cell_type": "markdown",
   "metadata": {},
   "source": [
    "Here we standardize the x-values using the mean and unit standard deviation for each feature in the training data_set."
   ]
  },
  {
   "cell_type": "code",
   "execution_count": 7,
   "metadata": {},
   "outputs": [],
   "source": [
    "scaler = preprocessing.StandardScaler().fit(xt_)\n",
    "xt, xtst = scaler.transform(xt_), scaler.transform(xtst_)"
   ]
  },
  {
   "cell_type": "code",
   "execution_count": 8,
   "metadata": {},
   "outputs": [],
   "source": [
    "def calc_mse(Prediction, Y):\n",
    "    mse = np.mean(np.square(Prediction - Y))\n",
    "    return mse"
   ]
  },
  {
   "cell_type": "markdown",
   "metadata": {},
   "source": [
    "# 1) Linear Regression  \n",
    "## (using closed form solution)\n",
    "\n",
    "Here we build the LinearRegression class. The Linear Regression is trained using the closed form solution:\n",
    "\n",
    "$$ \\hat{\\beta} = (X^{T}X)^{-1}X^{T}y $$"
   ]
  },
  {
   "cell_type": "code",
   "execution_count": 9,
   "metadata": {},
   "outputs": [],
   "source": [
    "class LinearRegression():\n",
    "    \n",
    "    def __init__(self, intercept = True):\n",
    "        self.intercept = intercept\n",
    "    \n",
    "    def fit(self, X, Y):\n",
    "        if self.intercept == True:\n",
    "            if len(X.shape) == 1:\n",
    "                X = X.reshape(-1,1)\n",
    "                X = np.insert(X,0,1,1)\n",
    "                w = (np.linalg.inv(X.T @ X)) @ X.T @ Y\n",
    "\n",
    "                self.B = w[1:]\n",
    "                self.c = w[0]\n",
    "                \n",
    "            else:\n",
    "                X = np.insert(X,0,1,1)\n",
    "                w = np.linalg.inv(X.T @ X) @ X.T @ Y\n",
    "\n",
    "                self.B = w[1:]\n",
    "                self.c = w[0]\n",
    "        else:\n",
    "            w = np.linalg.inv(X.T @ X) @ X.T @ Y\n",
    "            self.B = w\n",
    "            self.c = 0\n",
    "        return self\n",
    "            \n",
    "    def predict(self, X_t):\n",
    "        if len(X_t.shape) == 1:\n",
    "            X_t = X_t.reshape(-1,1)\n",
    "            Prediction = X_t @ self.B + self.c\n",
    "        else:\n",
    "            Prediction = X_t @ self.B + self.c\n",
    "        \n",
    "        return Prediction"
   ]
  },
  {
   "cell_type": "markdown",
   "metadata": {},
   "source": [
    "### Sarcos LR"
   ]
  },
  {
   "cell_type": "code",
   "execution_count": 10,
   "metadata": {},
   "outputs": [],
   "source": [
    "model = LinearRegression()\n",
    "model.fit(xt,yt)\n",
    "prediction = model.predict(xtst)"
   ]
  },
  {
   "cell_type": "code",
   "execution_count": 11,
   "metadata": {},
   "outputs": [
    {
     "data": {
      "text/plain": [
       "16.766759879376508"
      ]
     },
     "execution_count": 11,
     "metadata": {},
     "output_type": "execute_result"
    }
   ],
   "source": [
    "calc_mse(prediction,ytst)"
   ]
  },
  {
   "cell_type": "markdown",
   "metadata": {},
   "source": [
    "### Toy Problem LR\n",
    "Linear"
   ]
  },
  {
   "cell_type": "code",
   "execution_count": 12,
   "metadata": {},
   "outputs": [],
   "source": [
    "model_toy_lin = LinearRegression()\n",
    "model_toy_lin.fit(x_Toy,y_Toy)\n",
    "prediction_toy_lin = model_toy_lin.predict(x_Toy_test)"
   ]
  },
  {
   "cell_type": "code",
   "execution_count": 13,
   "metadata": {},
   "outputs": [
    {
     "data": {
      "text/plain": [
       "0.011002277869663563"
      ]
     },
     "execution_count": 13,
     "metadata": {},
     "output_type": "execute_result"
    }
   ],
   "source": [
    "calc_mse(prediction_toy_lin, y_Toy_test)"
   ]
  },
  {
   "cell_type": "markdown",
   "metadata": {},
   "source": [
    "Sinusoidal"
   ]
  },
  {
   "cell_type": "code",
   "execution_count": 14,
   "metadata": {},
   "outputs": [],
   "source": [
    "model_toy_sin = LinearRegression()\n",
    "model_toy_sin.fit(xsin_Toy,ysin_Toy)\n",
    "prediction_toy_sin = model_toy_sin.predict(xsin_Toy_test)"
   ]
  },
  {
   "cell_type": "code",
   "execution_count": 15,
   "metadata": {},
   "outputs": [
    {
     "data": {
      "text/plain": [
       "0.05054398983318002"
      ]
     },
     "execution_count": 15,
     "metadata": {},
     "output_type": "execute_result"
    }
   ],
   "source": [
    "calc_mse(prediction_toy_sin, ysin_Toy_test)"
   ]
  },
  {
   "cell_type": "markdown",
   "metadata": {},
   "source": [
    "### Plots for LR Toy Problem"
   ]
  },
  {
   "cell_type": "code",
   "execution_count": 16,
   "metadata": {},
   "outputs": [],
   "source": [
    "x_Toy_test_ = x_Toy_test[np.argsort(x_Toy_test)]\n",
    "prediction_toy_lin_ = prediction_toy_lin[np.argsort(x_Toy_test)]\n",
    "y_Toy_test_ = y_Toy_test[np.argsort(x_Toy_test)]"
   ]
  },
  {
   "cell_type": "code",
   "execution_count": 17,
   "metadata": {},
   "outputs": [],
   "source": [
    "xsin_Toy_test_ = x_Toy_test[np.argsort(xsin_Toy_test)]\n",
    "prediction_toy_sin_ = prediction_toy_sin[np.argsort(xsin_Toy_test)]\n",
    "ysin_Toy_test_ = ysin_Toy_test[np.argsort(xsin_Toy_test)]"
   ]
  },
  {
   "cell_type": "code",
   "execution_count": 18,
   "metadata": {},
   "outputs": [
    {
     "data": {
      "image/png": "[encoded data removed]",
      "text/plain": [
       "<Figure size 1080x432 with 2 Axes>"
      ]
     },
     "metadata": {},
     "output_type": "display_data"
    }
   ],
   "source": [
    "plt.style.use('seaborn')\n",
    "\n",
    "plt.figure(figsize=(15, 6))\n",
    "plt.subplot(1,2,1)\n",
    "plt.plot(x_Toy_test_, prediction_toy_lin_, color = 'b', label='Predictions')\n",
    "plt.scatter(x_Toy_test_, y_Toy_test_, color = 'r', label='Ytest')\n",
    "plt.legend(prop={'size': 13})\n",
    "plt.title('LR on Linear - w noise', fontsize=20)\n",
    "plt.xlim(-5,5)\n",
    "plt.xlabel('$\\mathbf{X}_{toy}$', size = 13)\n",
    "plt.ylabel('$\\mathbf{Y}_{toy}$', size = 13)\n",
    "\n",
    "plt.subplot(1,2,2)\n",
    "plt.plot(xsin_Toy_test_, prediction_toy_sin_, color = 'b', label='Predictions')\n",
    "plt.scatter(xsin_Toy_test_, ysin_Toy_test_, color = 'r', label='Ytest')\n",
    "plt.legend(prop={'size': 13})\n",
    "plt.title('LR on Sinusoidal - w noise', fontsize=20)\n",
    "plt.xlim(-5,5)\n",
    "plt.xlabel('$\\mathbf{X}_{toy}$', size = 13)\n",
    "plt.ylabel('$\\mathbf{Y}_{toy}$', size = 13)\n",
    "\n",
    "\n",
    "\n",
    "plt.show()\n",
    "#plt.savefig('LR_toy_plots', transparent=False)"
   ]
  },
  {
   "cell_type": "markdown",
   "metadata": {},
   "source": [
    "# 2) K-NN"
   ]
  },
  {
   "cell_type": "code",
   "execution_count": 19,
   "metadata": {},
   "outputs": [],
   "source": [
    "class KNN():\n",
    "\n",
    "    def dist_matrix(self, X, Xt):\n",
    "        if len(X.shape) == 1:\n",
    "            X = X[:, None]\n",
    "            Xt = Xt[:, None]\n",
    "            \n",
    "        euc_dist_ = 0\n",
    "        for i in range(X.shape[-1]):\n",
    "            euc_dist_ += np.square(X[:,i][None] - Xt[:,i][:,None])\n",
    "\n",
    "\n",
    "        return np.sqrt(euc_dist_)\n",
    "            \n",
    "        \n",
    "    def predict(self, dist_m, Y, K):\n",
    "        NNs = np.argsort(dist_m)[:,:K]\n",
    "        \n",
    "        w_d = np.zeros((len(NNs),K))\n",
    "        for i in range(len(NNs)):\n",
    "            w_d[i,:] = dist_m[i,NNs[i]]\n",
    "        \n",
    "        denom = np.sum((1/w_d), axis=1)\n",
    "        weighting = (1/w_d)/denom[:,None]\n",
    "        \n",
    "        predictions = np.sum((Y[NNs] * weighting), axis=1)\n",
    "        \n",
    "        return predictions\n",
    "    "
   ]
  },
  {
   "cell_type": "code",
   "execution_count": 20,
   "metadata": {},
   "outputs": [],
   "source": [
    "def Grid_Search(y_train, y_test, d_matrix, range_start, range_end):\n",
    "\n",
    "    MSE_gridsearch = np.zeros((range_end - range_start))\n",
    "\n",
    "    model_Grid_Srch = KNN()\n",
    "\n",
    "    for K in tqdm(range(range_start,range_end)):\n",
    "\n",
    "        predictions = model_Grid_Srch.predict(d_matrix, y_train, K)\n",
    "\n",
    "        MSE_sarcos = calc_mse(predictions, y_test)\n",
    "\n",
    "        MSE_gridsearch[K-1] = MSE_sarcos\n",
    "\n",
    "    idx = np.argsort(MSE_gridsearch)[0]\n",
    "\n",
    "    K = idx+1\n",
    "\n",
    "    MSE_ = MSE_gridsearch[idx]\n",
    "\n",
    "    return K, MSE_, MSE_gridsearch"
   ]
  },
  {
   "cell_type": "markdown",
   "metadata": {},
   "source": [
    "### SARCOS K-NN"
   ]
  },
  {
   "cell_type": "code",
   "execution_count": 21,
   "metadata": {},
   "outputs": [],
   "source": [
    "idx_k =round(0.6*xt.shape[0])\n",
    "xt_k = xt[:idx_k]\n",
    "yt_k = yt[:idx_k]\n",
    "\n",
    "model_knn = KNN()\n",
    "dist_matrix = model_knn.dist_matrix(xt_k,xtst)"
   ]
  },
  {
   "cell_type": "code",
   "execution_count": 22,
   "metadata": {},
   "outputs": [
    {
     "data": {
      "application/vnd.jupyter.widget-view+json": {
       "model_id": "ebd74d64e69b46f6a73e0fe93b2d9553",
       "version_major": 2,
       "version_minor": 0
      },
      "text/plain": [
       "  0%|          | 0/20 [00:00<?, ?it/s]"
      ]
     },
     "metadata": {},
     "output_type": "display_data"
    }
   ],
   "source": [
    "k, mse, results = Grid_Search(yt_k, ytst, dist_matrix, 1, 21)"
   ]
  },
  {
   "cell_type": "code",
   "execution_count": 23,
   "metadata": {},
   "outputs": [
    {
     "data": {
      "text/plain": [
       "(9, 10.514521517529474)"
      ]
     },
     "execution_count": 23,
     "metadata": {},
     "output_type": "execute_result"
    }
   ],
   "source": [
    "(k,mse)"
   ]
  },
  {
   "cell_type": "markdown",
   "metadata": {},
   "source": [
    "### Toy Problem K-NN\n",
    "\n",
    "Linear"
   ]
  },
  {
   "cell_type": "code",
   "execution_count": 24,
   "metadata": {},
   "outputs": [
    {
     "data": {
      "application/vnd.jupyter.widget-view+json": {
       "model_id": "87a0f8d1df7a4ca3827b995ed47d82d4",
       "version_major": 2,
       "version_minor": 0
      },
      "text/plain": [
       "  0%|          | 0/20 [00:00<?, ?it/s]"
      ]
     },
     "metadata": {},
     "output_type": "display_data"
    }
   ],
   "source": [
    "model_knn_t_lin = KNN()\n",
    "dist_matrix_toy_lin = model_knn_t_lin.dist_matrix(x_Toy, x_Toy_test)\n",
    "k_toy_lin, mse_toy_lin, results_toy_lin = Grid_Search(y_Toy, y_Toy_test, dist_matrix_toy_lin, 1, 21)"
   ]
  },
  {
   "cell_type": "code",
   "execution_count": 25,
   "metadata": {},
   "outputs": [
    {
     "data": {
      "text/plain": [
       "(20, 0.011470740169168691)"
      ]
     },
     "execution_count": 25,
     "metadata": {},
     "output_type": "execute_result"
    }
   ],
   "source": [
    "(k_toy_lin, mse_toy_lin)"
   ]
  },
  {
   "cell_type": "markdown",
   "metadata": {},
   "source": [
    "Sinusoidal "
   ]
  },
  {
   "cell_type": "code",
   "execution_count": 26,
   "metadata": {},
   "outputs": [
    {
     "data": {
      "application/vnd.jupyter.widget-view+json": {
       "model_id": "a6ca1b3f4d1245f1a64a1d6f0926101c",
       "version_major": 2,
       "version_minor": 0
      },
      "text/plain": [
       "  0%|          | 0/20 [00:00<?, ?it/s]"
      ]
     },
     "metadata": {},
     "output_type": "display_data"
    }
   ],
   "source": [
    "model_knn_t_sin = KNN()\n",
    "dist_matrix_toy_sin = model_knn_t_sin.dist_matrix(xsin_Toy, xsin_Toy_test)\n",
    "k_toy_sin, mse_toy_sin, results_toy_sin = Grid_Search(ysin_Toy, ysin_Toy_test, dist_matrix_toy_sin, 1, 21)"
   ]
  },
  {
   "cell_type": "code",
   "execution_count": 27,
   "metadata": {},
   "outputs": [
    {
     "data": {
      "text/plain": [
       "(20, 0.008829897077987713)"
      ]
     },
     "execution_count": 27,
     "metadata": {},
     "output_type": "execute_result"
    }
   ],
   "source": [
    "(k_toy_sin, mse_toy_sin)"
   ]
  },
  {
   "cell_type": "markdown",
   "metadata": {},
   "source": [
    "### Plots for KNN Toy Problem"
   ]
  },
  {
   "cell_type": "code",
   "execution_count": 28,
   "metadata": {},
   "outputs": [],
   "source": [
    "preds_knn_t_lin = model_knn_t_lin.predict(dist_matrix_toy_lin, y_Toy, k_toy_lin)\n",
    "preds_knn_t_lin_ = preds_knn_t_lin[np.argsort(x_Toy_test)]"
   ]
  },
  {
   "cell_type": "code",
   "execution_count": 29,
   "metadata": {},
   "outputs": [],
   "source": [
    "preds_knn_t_sin = model_knn_t_sin.predict(dist_matrix_toy_sin, ysin_Toy, k_toy_sin)\n",
    "preds_knn_t_sin_ = preds_knn_t_sin[np.argsort(xsin_Toy_test)]"
   ]
  },
  {
   "cell_type": "code",
   "execution_count": 30,
   "metadata": {},
   "outputs": [
    {
     "data": {
      "image/png": "[encoded data removed]",
      "text/plain": [
       "<Figure size 1080x432 with 2 Axes>"
      ]
     },
     "metadata": {},
     "output_type": "display_data"
    }
   ],
   "source": [
    "plt.style.use('seaborn')\n",
    "\n",
    "plt.figure(figsize=(15, 6))\n",
    "plt.subplot(1,2,1)\n",
    "plt.plot(x_Toy_test_, preds_knn_t_lin_, color = 'b', label='Predictions')\n",
    "plt.scatter(x_Toy_test_, y_Toy_test_, color = 'r', label='Ytest')\n",
    "plt.legend(prop={'size': 13})\n",
    "plt.title('KNN on Linear - w noise', fontsize=20)\n",
    "plt.xlim(-5,5)\n",
    "plt.xlabel('$\\mathbf{X}_{toy}$', size = 13)\n",
    "plt.ylabel('$\\mathbf{Y}_{toy}$', size = 13)\n",
    "\n",
    "plt.subplot(1,2,2)\n",
    "plt.style.use('seaborn')\n",
    "plt.plot(xsin_Toy_test_, preds_knn_t_sin_, color = 'b', label='Predictions')\n",
    "plt.scatter(xsin_Toy_test_, ysin_Toy_test_, color = 'r', label='Ytest')\n",
    "plt.legend(prop={'size': 13})\n",
    "plt.title('KNN on Sinusoidal - w noise', fontsize=20)\n",
    "plt.xlim(-5,5)\n",
    "plt.xlabel('$\\mathbf{X}_{toy}$', size = 13)\n",
    "plt.ylabel('$\\mathbf{Y}_{toy}$', size = 13)\n",
    "\n",
    "\n",
    "plt.show()\n",
    "#plt.savefig('KKN_toy_plots', transparent=False)"
   ]
  },
  {
   "cell_type": "markdown",
   "metadata": {},
   "source": [
    "# 3) Random Forest"
   ]
  },
  {
   "cell_type": "code",
   "execution_count": 31,
   "metadata": {},
   "outputs": [],
   "source": [
    "class Random_Forest():\n",
    "    \n",
    "    def split(self, x, y):\n",
    "    \n",
    "        var_start = np.var(y)*len(y)\n",
    "\n",
    "        best = {'infogain' : -np.inf}\n",
    "        \n",
    "        if len(x.shape) == 1:\n",
    "            x = x[:,None]\n",
    "            \n",
    "        for i in range(x.shape[1]):\n",
    "            for split in np.linspace(np.min(np.unique(x[:,i])),np.max(np.unique(x[:,i])),20):\n",
    "                left = x[:,i]<=split\n",
    "                right = x[:,i]>split #include split value on both sides to alleviate risk of left/right bias\n",
    "\n",
    "                var_left = np.var(y[left])*len(y[left])\n",
    "                var_right = np.var(y[right])*len(y[right])\n",
    "\n",
    "                infogain = var_start - (var_left + var_right)\n",
    "\n",
    "                if infogain > best['infogain']:\n",
    "                    best = {'feature' : i,\n",
    "                                'split' : split,\n",
    "                                'infogain' : infogain, \n",
    "                                'left_indices' : np.where(left)[0],\n",
    "                                'right_indices' : np.where(right)[0]}\n",
    "\n",
    "        return best\n",
    "\n",
    "\n",
    "    def tree(self, x, y, leaf_threshold, m_depth = np.inf):\n",
    "        \n",
    "        if len(x.shape) == 1:\n",
    "            x = x[:,None]\n",
    "        \n",
    "        if m_depth==1 or len(y) <= leaf_threshold:\n",
    "\n",
    "            return {'leaf' : True, 'prediction' : np.mean(y)}\n",
    "\n",
    "        else:\n",
    "            split_ = self.split(x, y)\n",
    "\n",
    "            left = self.tree(x[split_['left_indices'],:], \n",
    "                             y[split_['left_indices']], leaf_threshold, m_depth - 1)\n",
    "            right = self.tree(x[split_['right_indices'],:], \n",
    "                              y[split_['right_indices']], leaf_threshold, m_depth - 1)\n",
    "\n",
    "            return {'leaf' : False,\n",
    "                    'feature' : split_['feature'],\n",
    "                    'split' : split_['split'],\n",
    "                    'infogain' : split_['infogain'],\n",
    "                    'left' : left,\n",
    "                    'right' : right}\n",
    "        \n",
    "    def RF(self, x, y, no_trees=10, leaf_threshold = 10, m_depth = 40, samplesize=4000):\n",
    "        Random_forest = []\n",
    "        for i in tqdm(range(no_trees)):\n",
    "            exemplars = np.random.choice(len(x), samplesize, replace=True)\n",
    "\n",
    "            bag_xtrain = x[exemplars]\n",
    "\n",
    "            bag_ytrain = y[exemplars]\n",
    "\n",
    "            Random_forest.append(self.tree(bag_xtrain, bag_ytrain, leaf_threshold, m_depth))\n",
    "\n",
    "        return Random_forest\n",
    "    \n",
    "    \n",
    "    def build_predicts(self, tree, testdata):\n",
    "        \n",
    "        if len(testdata.shape) == 1:\n",
    "            testdata = testdata[:, None]\n",
    "        \n",
    "        build = np.empty(testdata.shape[0], dtype=float)\n",
    "        build.fill(-1)\n",
    "        indx = np.arange(testdata.shape[0])\n",
    "\n",
    "        def traverse(node, indx):\n",
    "            nonlocal testdata\n",
    "            nonlocal build\n",
    "\n",
    "            if node['leaf']:\n",
    "                build[indx] = node['prediction']\n",
    "\n",
    "            else:\n",
    "                going_left = testdata[indx, node['feature']] <= node['split']\n",
    "                left_indices = indx[going_left]\n",
    "                right_indices = indx[np.logical_not(going_left)]\n",
    "\n",
    "                if left_indices.shape[0] > 0:\n",
    "                    traverse(node['left'], left_indices)\n",
    "\n",
    "                if right_indices.shape[0] > 0:\n",
    "                    traverse(node['right'], right_indices)\n",
    "\n",
    "        traverse(tree, indx)\n",
    "        return build\n",
    "    \n",
    "    def predict(self, rf, Xt):\n",
    "        \n",
    "        predictions_ = []\n",
    "        for tree in rf:\n",
    "            predictions_.append(model_RF.build_predicts(tree, Xt))\n",
    "\n",
    "        stack = np.zeros((len(predictions_[0]),len(predictions_)))\n",
    "\n",
    "        for g in range(len(predictions_)):\n",
    "            stack[:,g] = predictions_[g]\n",
    "\n",
    "        predictions = np.mean(stack, axis=-1)\n",
    "        \n",
    "        return predictions"
   ]
  },
  {
   "cell_type": "markdown",
   "metadata": {},
   "source": [
    "### SARCOS RF"
   ]
  },
  {
   "cell_type": "code",
   "execution_count": 38,
   "metadata": {},
   "outputs": [
    {
     "data": {
      "application/vnd.jupyter.widget-view+json": {
       "model_id": "a0b5af2bb31c4817815c33945f395425",
       "version_major": 2,
       "version_minor": 0
      },
      "text/plain": [
       "  0%|          | 0/10 [00:00<?, ?it/s]"
      ]
     },
     "metadata": {},
     "output_type": "display_data"
    }
   ],
   "source": [
    "idx_rf = round(0.6*xt.shape[0])\n",
    "xt_rf  = xt[:idx_rf]\n",
    "yt_rf  = yt[:idx_rf]\n",
    "\n",
    "model_RF = Random_Forest()\n",
    "rf = model_RF.RF(xt_rf,yt_rf,10,10,100, 1000)\n",
    "predictions_rf = model_RF.predict(rf, xtst)"
   ]
  },
  {
   "cell_type": "code",
   "execution_count": 39,
   "metadata": {},
   "outputs": [
    {
     "data": {
      "text/plain": [
       "27.38467239737777"
      ]
     },
     "execution_count": 39,
     "metadata": {},
     "output_type": "execute_result"
    }
   ],
   "source": [
    "calc_mse(predictions_rf, ytst)"
   ]
  },
  {
   "cell_type": "markdown",
   "metadata": {},
   "source": [
    "### Toy Problem RF\n",
    "\n",
    "Linear"
   ]
  },
  {
   "cell_type": "code",
   "execution_count": 40,
   "metadata": {},
   "outputs": [
    {
     "data": {
      "application/vnd.jupyter.widget-view+json": {
       "model_id": "5bf69035525f4b62b0185524cac3d5a4",
       "version_major": 2,
       "version_minor": 0
      },
      "text/plain": [
       "  0%|          | 0/100 [00:00<?, ?it/s]"
      ]
     },
     "metadata": {},
     "output_type": "display_data"
    }
   ],
   "source": [
    "model_RF_t_lin = Random_Forest()\n",
    "rf_t_lin = model_RF_t_lin.RF(x_Toy, y_Toy, 100, 10, 40, 500)\n",
    "predictions_rf_t_lin = model_RF.predict(rf_t_lin, x_Toy_test)"
   ]
  },
  {
   "cell_type": "code",
   "execution_count": 41,
   "metadata": {},
   "outputs": [
    {
     "data": {
      "text/plain": [
       "0.014553697175121186"
      ]
     },
     "execution_count": 41,
     "metadata": {},
     "output_type": "execute_result"
    }
   ],
   "source": [
    "calc_mse(predictions_rf_t_lin, y_Toy_test)"
   ]
  },
  {
   "cell_type": "markdown",
   "metadata": {},
   "source": [
    "Sinusoidal "
   ]
  },
  {
   "cell_type": "code",
   "execution_count": 42,
   "metadata": {},
   "outputs": [
    {
     "data": {
      "application/vnd.jupyter.widget-view+json": {
       "model_id": "fed408409851496db3a9fe55101e2885",
       "version_major": 2,
       "version_minor": 0
      },
      "text/plain": [
       "  0%|          | 0/100 [00:00<?, ?it/s]"
      ]
     },
     "metadata": {},
     "output_type": "display_data"
    }
   ],
   "source": [
    "model_RF_t_sin = Random_Forest()\n",
    "rf_t_sin = model_RF_t_sin.RF(xsin_Toy, ysin_Toy, 100, 10, 40, 500)\n",
    "predictions_rf_t_sin = model_RF.predict(rf_t_sin, xsin_Toy_test)"
   ]
  },
  {
   "cell_type": "code",
   "execution_count": 43,
   "metadata": {},
   "outputs": [
    {
     "data": {
      "text/plain": [
       "0.010013167469593031"
      ]
     },
     "execution_count": 43,
     "metadata": {},
     "output_type": "execute_result"
    }
   ],
   "source": [
    "calc_mse(predictions_rf_t_sin, ysin_Toy_test)"
   ]
  },
  {
   "cell_type": "markdown",
   "metadata": {},
   "source": [
    "### Plots for RF Toy Problem"
   ]
  },
  {
   "cell_type": "code",
   "execution_count": 44,
   "metadata": {},
   "outputs": [],
   "source": [
    "predictions_rf_t_lin_ = predictions_rf_t_lin[np.argsort(x_Toy_test)]"
   ]
  },
  {
   "cell_type": "code",
   "execution_count": 45,
   "metadata": {},
   "outputs": [],
   "source": [
    "predictions_rf_t_sin_ = predictions_rf_t_sin[np.argsort(x_Toy_test)]"
   ]
  },
  {
   "cell_type": "code",
   "execution_count": 46,
   "metadata": {},
   "outputs": [
    {
     "data": {
      "image/png": "[encoded data removed]",
      "text/plain": [
       "<Figure size 1080x432 with 2 Axes>"
      ]
     },
     "metadata": {},
     "output_type": "display_data"
    }
   ],
   "source": [
    "plt.style.use('seaborn')\n",
    "\n",
    "plt.figure(figsize=(15, 6))\n",
    "plt.subplot(1,2,1)\n",
    "plt.plot(x_Toy_test_, predictions_rf_t_lin_, color = 'b', label='Predictions')\n",
    "plt.scatter(x_Toy_test_, y_Toy_test_, color = 'r', label='Ytest')\n",
    "plt.legend(prop={'size': 13})\n",
    "plt.title('RF on Linear', fontsize=16)\n",
    "plt.xlim(-5,5)\n",
    "plt.xlabel('$\\mathbf{X}_{toy}$', size = 13)\n",
    "plt.ylabel('$\\mathbf{Y}_{toy}$', size = 13)\n",
    "\n",
    "plt.subplot(1,2,2)\n",
    "plt.plot(xsin_Toy_test_, predictions_rf_t_sin_, color = 'b', label='Predictions')\n",
    "plt.scatter(xsin_Toy_test_, ysin_Toy_test_, color = 'r', label='Ytest')\n",
    "plt.legend(prop={'size': 13})\n",
    "plt.title('RF on Sinusoidal', fontsize=16)\n",
    "plt.xlim(-5,5)\n",
    "plt.xlabel('$\\mathbf{X}_{toy}$', size = 13)\n",
    "plt.ylabel('$\\mathbf{Y}_{toy}$', size = 13)\n",
    "\n",
    "\n",
    "plt.show()\n",
    "#plt.savefig('RF_toy_plots', transparent=False)"
   ]
  },
  {
   "cell_type": "markdown",
   "metadata": {},
   "source": [
    "# 4) Gaussian Process"
   ]
  },
  {
   "cell_type": "markdown",
   "metadata": {},
   "source": [
    "#### GP Code"
   ]
  },
  {
   "cell_type": "code",
   "execution_count": 55,
   "metadata": {},
   "outputs": [],
   "source": [
    "class Gaussian_Process():\n",
    "    \n",
    "    def kernel(self, x1, x2, l, s):\n",
    "    \n",
    "        if len(x1.shape) == 1:\n",
    "            x1 = x1[:,None]\n",
    "            x2 = x2[:,None]\n",
    "\n",
    "        euc_dist_2 = np.square(distance.cdist(x1,x2, 'euclidean'))\n",
    "\n",
    "        k = s * np.exp(-0.5 * euc_dist_2/(l**2))\n",
    "\n",
    "        return k\n",
    "\n",
    "    def n_loglikelihood(self, Xt, Yt):\n",
    "\n",
    "            def  optimisation(hps): \n",
    "                #Hyperparameters used optimized from scipy minimizing function, minimizing negative loglikelihood\n",
    "                n      =len(Xt)\n",
    "\n",
    "                l      =hps[0]\n",
    "\n",
    "                s      =hps[1]\n",
    "\n",
    "                sig    =hps[2]\n",
    "\n",
    "                k_sig_I = self.kernel(Xt, Xt, l, s) + sig**2 * np.eye(n)\n",
    "\n",
    "                k_sig_I_inv = np.linalg.inv(k_sig_I)\n",
    "\n",
    "                k_sig_I_det = np.linalg.det(k_sig_I)\n",
    "\n",
    "                loglikelihood = -(n/2) * np.log(2*np.pi) - (1/2) * np.log(k_sig_I_det) - (1/2) * Yt.T @ k_sig_I_inv @ Yt        \n",
    "\n",
    "                negativeloglhood= -1 * loglikelihood\n",
    "\n",
    "                return negativeloglhood\n",
    "            return optimisation\n",
    "    \n",
    "    def posteriors(self, Xt, Yt, Xtst, l, s, sig):\n",
    "    \n",
    "        n = len(Xt)\n",
    "\n",
    "        k_sig_I = self.kernel(Xt, Xt, l, s) + np.square(sig) * np.eye(n)\n",
    "\n",
    "        k_t_tst = self.kernel(Xt, Xtst, l, s)\n",
    "\n",
    "        k_tst   = self.kernel(Xtst, Xtst, l, s)\n",
    "\n",
    "        k_sig_I_inv = np.linalg.inv(k_sig_I)\n",
    "\n",
    "        #Predictions/mu-vector\n",
    "        mu = k_t_tst.T @ k_sig_I_inv @ Yt\n",
    "\n",
    "        #Covariance matrix\n",
    "        cov = k_tst - k_t_tst.T @ k_sig_I_inv @ k_t_tst\n",
    "\n",
    "        return mu, cov\n",
    "        \n",
    "\n",
    "    def Hp_tuning(self, Xt, Yt, Xtst):\n",
    "        #Implementing the scipy.optimize  minimize fucntion in order to tune s,l,sig**2 in order to minimize \n",
    "        #the n_log_likelihood value thus optimizing the hyperparameters. \n",
    "        #these are initiated as 1,1,1 in the minize function\n",
    "\n",
    "        Optimized = minimize(self.n_loglikelihood(Xt, Yt), [1, 1, 1], bounds=((1e-8, None), (1e-8, None),(1e-8, None)), method='Nelder-Mead') \n",
    "    \n",
    "        return Optimized"
   ]
  },
  {
   "cell_type": "markdown",
   "metadata": {},
   "source": [
    "### SARCOS GP"
   ]
  },
  {
   "cell_type": "code",
   "execution_count": null,
   "metadata": {},
   "outputs": [],
   "source": [
    "idx_gp = round(0.10*xt.shape[0])\n",
    "xt_gp  = xt[:idx_gp]\n",
    "yt_gp  = yt[:idx_gp]\n",
    "\n",
    "model_GP  = Gaussian_Process()\n",
    "optimised = model_GP.Hp_tuning(xt_gp, yt_gp, xtst)\n",
    "\n",
    "l     = optimised.x[0]\n",
    "s     = optimised.x[1]\n",
    "sig_2 = optimised.x[2]\n",
    "\n",
    "mu_sarcos, cov_sarcos = posteriors(xt_gp, yt_gp, xtst, l, s, sig_2)"
   ]
  },
  {
   "cell_type": "code",
   "execution_count": null,
   "metadata": {},
   "outputs": [],
   "source": [
    "calc_mse(mu_sarcos, ytst)"
   ]
  },
  {
   "cell_type": "markdown",
   "metadata": {},
   "source": [
    "### Toy Problem GP\n",
    "\n",
    "Linear"
   ]
  },
  {
   "cell_type": "code",
   "execution_count": 60,
   "metadata": {},
   "outputs": [
    {
     "name": "stderr",
     "output_type": "stream",
     "text": [
      "<ipython-input-55-4c18623de3a3>:33: RuntimeWarning: divide by zero encountered in log\n",
      "  loglikelihood = -(n/2) * np.log(2*np.pi) - (1/2) * np.log(k_sig_I_det) - (1/2) * Yt.T @ k_sig_I_inv @ Yt\n"
     ]
    }
   ],
   "source": [
    "model_GP_tlin  = Gaussian_Process()\n",
    "optimised_tlin = model_GP_tlin.Hp_tuning(x_Toy, y_Toy, x_Toy_test)\n",
    "\n",
    "l_tl     = optimised_tlin.x[0]\n",
    "s_tl     = optimised_tlin.x[1]\n",
    "sig_2_tl = optimised_tlin.x[2]\n",
    "\n",
    "mu_tlin, cov_tlin = model_GP_tlin.posteriors(x_Toy, y_Toy, x_Toy_test, l_tl, s_tl, sig_2_tl)"
   ]
  },
  {
   "cell_type": "code",
   "execution_count": 61,
   "metadata": {},
   "outputs": [
    {
     "data": {
      "text/plain": [
       "0.01176627113122011"
      ]
     },
     "execution_count": 61,
     "metadata": {},
     "output_type": "execute_result"
    }
   ],
   "source": [
    "calc_mse(mu_tlin, y_Toy_test)"
   ]
  },
  {
   "cell_type": "markdown",
   "metadata": {},
   "source": [
    "Sinusoidal "
   ]
  },
  {
   "cell_type": "code",
   "execution_count": 62,
   "metadata": {},
   "outputs": [
    {
     "name": "stderr",
     "output_type": "stream",
     "text": [
      "<ipython-input-55-4c18623de3a3>:33: RuntimeWarning: divide by zero encountered in log\n",
      "  loglikelihood = -(n/2) * np.log(2*np.pi) - (1/2) * np.log(k_sig_I_det) - (1/2) * Yt.T @ k_sig_I_inv @ Yt\n"
     ]
    }
   ],
   "source": [
    "model_GP_tsin  = Gaussian_Process()\n",
    "optimised_tsin = model_GP_tsin.Hp_tuning(xsin_Toy, ysin_Toy, xsin_Toy_test)\n",
    "\n",
    "l_ts     = optimised_tsin.x[0]\n",
    "s_ts     = optimised_tsin.x[1]\n",
    "sig_2_ts = optimised_tsin.x[2]\n",
    "\n",
    "mu_tsin, cov_tsin = model_GP_tsin.posteriors(xsin_Toy, ysin_Toy, xsin_Toy_test, l_ts, s_ts, sig_2_ts)"
   ]
  },
  {
   "cell_type": "code",
   "execution_count": 63,
   "metadata": {},
   "outputs": [
    {
     "data": {
      "text/plain": [
       "0.009239147941830096"
      ]
     },
     "execution_count": 63,
     "metadata": {},
     "output_type": "execute_result"
    }
   ],
   "source": [
    "calc_mse(mu_tsin, ysin_Toy_test)"
   ]
  },
  {
   "cell_type": "markdown",
   "metadata": {},
   "source": [
    "### Plots for GP Toy Problem"
   ]
  },
  {
   "cell_type": "markdown",
   "metadata": {},
   "source": [
    "#### Linear (with noise)"
   ]
  },
  {
   "cell_type": "code",
   "execution_count": 64,
   "metadata": {},
   "outputs": [],
   "source": [
    "mu_tlin_   = mu_tlin[np.argsort(x_Toy_test)]\n",
    "stdv_tlin  = np.sqrt(np.diag(cov_tlin))\n",
    "stdv_tlin_ = stdv_tlin[np.argsort(x_Toy_test)]\n",
    "\n",
    "upper_tlin = mu_tlin_ + stdv_tlin_*2\n",
    "lower_tlin = mu_tlin_ - stdv_tlin_*2"
   ]
  },
  {
   "cell_type": "code",
   "execution_count": 65,
   "metadata": {},
   "outputs": [],
   "source": [
    "mu_tsin_   = mu_tsin[np.argsort(xsin_Toy_test)]\n",
    "stdv_tsin  = np.sqrt(np.diag(cov_tsin))\n",
    "stdv_tsin_ = stdv_tsin[np.argsort(xsin_Toy_test)]\n",
    "\n",
    "upper_tsin = mu_tsin_ + stdv_tsin_*2\n",
    "lower_tsin = mu_tsin_ - stdv_tsin_*2"
   ]
  },
  {
   "cell_type": "code",
   "execution_count": 66,
   "metadata": {},
   "outputs": [
    {
     "data": {
      "image/png": "[encoded data removed]",
      "text/plain": [
       "<Figure size 1080x432 with 2 Axes>"
      ]
     },
     "metadata": {},
     "output_type": "display_data"
    }
   ],
   "source": [
    "plt.style.use('seaborn')\n",
    "\n",
    "plt.figure(figsize=(15, 6))\n",
    "plt.subplot(1,2,1)\n",
    "plt.plot(x_Toy_test_, mu_tlin_, color = 'b', label='Mu')\n",
    "plt.scatter(x_Toy_test_, y_Toy_test_, color = 'r', label='Ytest')\n",
    "plt.legend(prop={'size': 13})\n",
    "plt.title('GP on Linear', fontsize=16)\n",
    "plt.xlim(-5,5)\n",
    "plt.fill_between(x_Toy_test_, upper_tlin, lower_tlin, alpha=0.3)\n",
    "plt.xlabel('$\\mathbf{X}_{toy}$', size = 13)\n",
    "plt.ylabel('$\\mathbf{Y}_{toy}$', size = 13)\n",
    "\n",
    "plt.subplot(1,2,2)\n",
    "plt.plot(xsin_Toy_test_, mu_tsin_, color = 'b', label='Mu')\n",
    "plt.scatter(xsin_Toy_test_, ysin_Toy_test_, color = 'r', label='Ytest')\n",
    "plt.legend(prop={'size': 13})\n",
    "plt.title('GP on Sinusoidal', fontsize=16)\n",
    "plt.xlim(-5,5)\n",
    "plt.fill_between(xsin_Toy_test_, upper_tsin, lower_tsin, alpha=0.3)\n",
    "plt.xlabel('$\\mathbf{X}_{toy}$', size = 13)\n",
    "plt.ylabel('$\\mathbf{Y}_{toy}$', size = 13)\n",
    "\n",
    "plt.show()\n",
    "#plt.savefig('GP_toy_plots', transparent=False)"
   ]
  },
  {
   "cell_type": "code",
   "execution_count": null,
   "metadata": {},
   "outputs": [],
   "source": []
  }
 ],
 "metadata": {
  "kernelspec": {
   "display_name": "Python 3",
   "language": "python",
   "name": "python3"
  },
  "language_info": {
   "codemirror_mode": {
    "name": "ipython",
    "version": 3
   },
   "file_extension": ".py",
   "mimetype": "text/x-python",
   "name": "python",
   "nbconvert_exporter": "python",
   "pygments_lexer": "ipython3",
   "version": "3.8.2"
  }
 },
 "nbformat": 4,
 "nbformat_minor": 2
}
