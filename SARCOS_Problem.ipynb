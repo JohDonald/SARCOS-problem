{
 "cells": [
  {
   "cell_type": "markdown",
   "metadata": {},
   "source": [
    "# SARCOS Dataset Problem \n",
    "----------------------------\n",
    "Models applied to the SARCOS Dataset:  \n",
    "Linear Regression  \n",
    "K-NN  \n",
    "RF  \n",
    "Gaussian Process  \n",
    "\n",
    "\n",
    "We also create a linear and sinusoidal toy problem to sense check the models."
   ]
  },
  {
   "cell_type": "code",
   "execution_count": 1,
   "metadata": {},
   "outputs": [],
   "source": [
    "import numpy as np\n",
    "import pandas as pd\n",
    "from sklearn.model_selection import train_test_split\n",
    "from sklearn import preprocessing\n",
    "import matplotlib.pyplot as plt\n",
    "from tqdm.notebook import tqdm"
   ]
  },
  {
   "cell_type": "markdown",
   "metadata": {},
   "source": [
    "### Toy problem/data"
   ]
  },
  {
   "cell_type": "code",
   "execution_count": 2,
   "metadata": {},
   "outputs": [],
   "source": [
    "#Toy 1D data set:\n",
    "#Sinusoidal:\n",
    "x_toy = np.linspace(-3,3,500)\n",
    "y_sin = np.sin(x_toy)*0.5 +5 + np.random.normal(size = 500)*0.1 #Adding noise to the toy problem\n",
    "#Linear:\n",
    "y_lin = 2*x_toy + 5 + np.random.normal(size = 500)*0.1 #Adding noise to the toy problem"
   ]
  },
  {
   "cell_type": "code",
   "execution_count": 3,
   "metadata": {},
   "outputs": [],
   "source": [
    "#Linear:\n",
    "x_Toy, x_Toy_test, y_Toy, y_Toy_test = train_test_split(x_toy, y_lin, test_size=0.20, random_state=101)\n",
    "\n",
    "#Sinusoidal:\n",
    "xsin_Toy, xsin_Toy_test, ysin_Toy, ysin_Toy_test = train_test_split(x_toy, y_sin, test_size=0.20, random_state=101)"
   ]
  },
  {
   "cell_type": "markdown",
   "metadata": {},
   "source": [
    "### Sarcos Data"
   ]
  },
  {
   "cell_type": "code",
   "execution_count": 4,
   "metadata": {},
   "outputs": [],
   "source": [
    "sarcos = pd.read_csv('sarcos_inv.csv', header = None).values"
   ]
  },
  {
   "cell_type": "code",
   "execution_count": 5,
   "metadata": {},
   "outputs": [],
   "source": [
    "xt_, xtst_, yt, ytst = train_test_split(sarcos[:,:-1], sarcos[:,-1], train_size=0.9, random_state=101)"
   ]
  },
  {
   "cell_type": "code",
   "execution_count": 6,
   "metadata": {},
   "outputs": [],
   "source": [
    "xtst_ = xtst_[:50]\n",
    "ytst = ytst[:50]"
   ]
  },
  {
   "cell_type": "markdown",
   "metadata": {},
   "source": [
    "Here we standardize the x-values using the mean and unit standard deviation for each feature in the training data_set."
   ]
  },
  {
   "cell_type": "code",
   "execution_count": 7,
   "metadata": {},
   "outputs": [],
   "source": [
    "scaler = preprocessing.StandardScaler().fit(xt_)\n",
    "xt, xtst = scaler.transform(xt_), scaler.transform(xtst_)"
   ]
  },
  {
   "cell_type": "code",
   "execution_count": 8,
   "metadata": {},
   "outputs": [],
   "source": [
    "def calc_mse(Prediction, Y):\n",
    "    mse = np.mean(np.square(Prediction - Y))\n",
    "    return mse"
   ]
  },
  {
   "cell_type": "markdown",
   "metadata": {},
   "source": [
    "# 1) Linear Regression  \n",
    "## (using closed form solution)\n",
    "\n",
    "Here we build the LinearRegression class. The Linear Regression is trained using the closed form solution:\n",
    "\n",
    "$$ \\hat{\\beta} = (X^{T}X)^{-1}X^{T}y $$"
   ]
  },
  {
   "cell_type": "code",
   "execution_count": 9,
   "metadata": {},
   "outputs": [],
   "source": [
    "class LinearRegression():\n",
    "    \n",
    "    def __init__(self, intercept = True):\n",
    "        self.intercept = intercept\n",
    "    \n",
    "    def fit(self, X, Y):\n",
    "        if self.intercept == True:\n",
    "            if len(X.shape) == 1:\n",
    "                X = X.reshape(-1,1)\n",
    "                X = np.insert(X,0,1,1)\n",
    "                w = (np.linalg.inv(X.T @ X)) @ X.T @ Y\n",
    "\n",
    "                self.B = w[1:]\n",
    "                self.c = w[0]\n",
    "                \n",
    "            else:\n",
    "                X = np.insert(X,0,1,1)\n",
    "                w = np.linalg.inv(X.T @ X) @ X.T @ Y\n",
    "\n",
    "                self.B = w[1:]\n",
    "                self.c = w[0]\n",
    "        else:\n",
    "            w = np.linalg.inv(X.T @ X) @ X.T @ Y\n",
    "            self.B = w\n",
    "            self.c = 0\n",
    "        return self\n",
    "            \n",
    "    def predict(self, X_t):\n",
    "        if len(X_t.shape) == 1:\n",
    "            X_t = X_t.reshape(-1,1)\n",
    "            Prediction = X_t @ self.B + self.c\n",
    "        else:\n",
    "            Prediction = X_t @ self.B + self.c\n",
    "        \n",
    "        return Prediction"
   ]
  },
  {
   "cell_type": "markdown",
   "metadata": {},
   "source": [
    "### Sarcos LR"
   ]
  },
  {
   "cell_type": "code",
   "execution_count": 10,
   "metadata": {},
   "outputs": [],
   "source": [
    "model = LinearRegression()\n",
    "model.fit(xt,yt)\n",
    "prediction = model.predict(xtst)"
   ]
  },
  {
   "cell_type": "code",
   "execution_count": 11,
   "metadata": {},
   "outputs": [
    {
     "data": {
      "text/plain": [
       "16.766759879376508"
      ]
     },
     "execution_count": 11,
     "metadata": {},
     "output_type": "execute_result"
    }
   ],
   "source": [
    "calc_mse(prediction,ytst)"
   ]
  },
  {
   "cell_type": "markdown",
   "metadata": {},
   "source": [
    "### Toy Problem LR\n",
    "Linear"
   ]
  },
  {
   "cell_type": "code",
   "execution_count": 12,
   "metadata": {},
   "outputs": [],
   "source": [
    "model_toy_lin = LinearRegression()\n",
    "model_toy_lin.fit(x_Toy,y_Toy)\n",
    "prediction_toy_lin = model_toy_lin.predict(x_Toy_test)"
   ]
  },
  {
   "cell_type": "code",
   "execution_count": 13,
   "metadata": {},
   "outputs": [
    {
     "data": {
      "text/plain": [
       "0.009980792922064287"
      ]
     },
     "execution_count": 13,
     "metadata": {},
     "output_type": "execute_result"
    }
   ],
   "source": [
    "calc_mse(prediction_toy_lin, y_Toy_test)"
   ]
  },
  {
   "cell_type": "markdown",
   "metadata": {},
   "source": [
    "Sinusoidal"
   ]
  },
  {
   "cell_type": "code",
   "execution_count": 14,
   "metadata": {},
   "outputs": [],
   "source": [
    "model_toy_sin = LinearRegression()\n",
    "model_toy_sin.fit(xsin_Toy,ysin_Toy)\n",
    "prediction_toy_sin = model_toy_sin.predict(xsin_Toy_test)"
   ]
  },
  {
   "cell_type": "code",
   "execution_count": 15,
   "metadata": {},
   "outputs": [
    {
     "data": {
      "text/plain": [
       "0.04394487279661109"
      ]
     },
     "execution_count": 15,
     "metadata": {},
     "output_type": "execute_result"
    }
   ],
   "source": [
    "calc_mse(prediction_toy_sin, ysin_Toy_test)"
   ]
  },
  {
   "cell_type": "markdown",
   "metadata": {},
   "source": [
    "### Plots for LR Toy Problem"
   ]
  },
  {
   "cell_type": "markdown",
   "metadata": {},
   "source": [
    "#### Linear (with noise)"
   ]
  },
  {
   "cell_type": "code",
   "execution_count": 16,
   "metadata": {},
   "outputs": [],
   "source": [
    "x_Toy_test_ = x_Toy_test[np.argsort(x_Toy_test)]\n",
    "prediction_toy_lin_ = prediction_toy_lin[np.argsort(x_Toy_test)]\n",
    "y_Toy_test_ = y_Toy_test[np.argsort(x_Toy_test)]"
   ]
  },
  {
   "cell_type": "code",
   "execution_count": 72,
   "metadata": {},
   "outputs": [
    {
     "data": {
      "image/png": "[encoded data removed]",
      "text/plain": [
       "<Figure size 576x396 with 1 Axes>"
      ]
     },
     "metadata": {},
     "output_type": "display_data"
    }
   ],
   "source": [
    "plt.style.use('seaborn')\n",
    "plt.plot(x_Toy_test_, prediction_toy_lin_, color = 'b', label='Predictions')\n",
    "plt.scatter(x_Toy_test_, y_Toy_test_, color = 'r', label='Ytest')\n",
    "plt.legend(prop={'size': 13})\n",
    "plt.title('LR on Linear - w noise', fontsize=20)\n",
    "plt.xlim(-5,5)\n",
    "\n",
    "plt.xlabel('$\\mathbf{X}_{toy}$', size = 13)\n",
    "plt.ylabel('$\\mathbf{Y}_{toy}$', size = 13)\n",
    "\n",
    "\n",
    "plt.show()"
   ]
  },
  {
   "cell_type": "markdown",
   "metadata": {},
   "source": [
    "#### Sinusoidal (with noise)"
   ]
  },
  {
   "cell_type": "code",
   "execution_count": 18,
   "metadata": {},
   "outputs": [],
   "source": [
    "xsin_Toy_test_ = x_Toy_test[np.argsort(xsin_Toy_test)]\n",
    "prediction_toy_sin_ = prediction_toy_sin[np.argsort(xsin_Toy_test)]\n",
    "ysin_Toy_test_ = ysin_Toy_test[np.argsort(xsin_Toy_test)]"
   ]
  },
  {
   "cell_type": "code",
   "execution_count": 73,
   "metadata": {},
   "outputs": [
    {
     "data": {
      "image/png": "[encoded data removed]",
      "text/plain": [
       "<Figure size 576x396 with 1 Axes>"
      ]
     },
     "metadata": {},
     "output_type": "display_data"
    }
   ],
   "source": [
    "plt.style.use('seaborn')\n",
    "plt.plot(xsin_Toy_test_, prediction_toy_sin_, color = 'b', label='Predictions')\n",
    "plt.scatter(xsin_Toy_test_, ysin_Toy_test_, color = 'r', label='Ytest')\n",
    "plt.legend(prop={'size': 13})\n",
    "plt.title('LR on Sinusoidal - w noise', fontsize=20)\n",
    "plt.xlim(-5,5)\n",
    "\n",
    "plt.xlabel('$\\mathbf{X}_{toy}$', size = 13)\n",
    "plt.ylabel('$\\mathbf{Y}_{toy}$', size = 13)\n",
    "\n",
    "plt.show()"
   ]
  },
  {
   "cell_type": "markdown",
   "metadata": {},
   "source": [
    "# 2) K-NN"
   ]
  },
  {
   "cell_type": "code",
   "execution_count": 45,
   "metadata": {},
   "outputs": [],
   "source": [
    "class KNN():\n",
    "\n",
    "    def dist_matrix(self, X, Xt):\n",
    "        if len(X.shape) == 1:\n",
    "            X = X[:, None]\n",
    "            Xt = Xt[:, None]\n",
    "            \n",
    "        euc_dist_ = 0\n",
    "        for i in range(X.shape[-1]):\n",
    "            euc_dist_ += np.square(X[:,i][None] - Xt[:,i][:,None])\n",
    "\n",
    "\n",
    "        return np.sqrt(euc_dist_)\n",
    "            \n",
    "        \n",
    "    def predict(self, dist_m, Y, K):\n",
    "        NNs = np.argsort(dist_m)[:,:K]\n",
    "        \n",
    "        w_d = np.zeros((len(NNs),K))\n",
    "        for i in range(len(NNs)):\n",
    "            w_d[i,:] = dist_m[i,NNs[i]]\n",
    "        \n",
    "        denom = np.sum((1/w_d), axis=1)\n",
    "        weighting = (1/w_d)/denom[:,None]\n",
    "        \n",
    "        predictions = np.sum((Y[NNs] * weighting), axis=1)\n",
    "        \n",
    "        return predictions\n",
    "    "
   ]
  },
  {
   "cell_type": "code",
   "execution_count": 46,
   "metadata": {},
   "outputs": [],
   "source": [
    "def Grid_Search(y_train, y_test, d_matrix, range_start, range_end):\n",
    "\n",
    "    MSE_gridsearch = np.zeros((range_end - range_start))\n",
    "\n",
    "    model_Grid_Srch = KNN()\n",
    "\n",
    "    for K in tqdm(range(range_start,range_end)):\n",
    "\n",
    "        predictions = model_Grid_Srch.predict(d_matrix, y_train, K)\n",
    "\n",
    "        MSE_sarcos = calc_mse(predictions, y_test)\n",
    "\n",
    "        MSE_gridsearch[K-1] = MSE_sarcos\n",
    "\n",
    "    idx = np.argsort(MSE_gridsearch)[0]\n",
    "\n",
    "    K = idx+1\n",
    "\n",
    "    MSE_ = MSE_gridsearch[idx]\n",
    "\n",
    "    return K, MSE_, MSE_gridsearch"
   ]
  },
  {
   "cell_type": "markdown",
   "metadata": {},
   "source": [
    "### SARCOS K-NN"
   ]
  },
  {
   "cell_type": "code",
   "execution_count": 47,
   "metadata": {},
   "outputs": [],
   "source": [
    "idx_k =round(0.6*xt.shape[0])\n",
    "xt_k = xt[:idx_k]\n",
    "yt_k = yt[:idx_k]\n",
    "\n",
    "model_knn = KNN()\n",
    "dist_matrix = model_knn.dist_matrix(xt_k,xtst)"
   ]
  },
  {
   "cell_type": "code",
   "execution_count": 48,
   "metadata": {},
   "outputs": [
    {
     "data": {
      "application/vnd.jupyter.widget-view+json": {
       "model_id": "c4f84abcfb264d1fb57a99a8bfdd6b7f",
       "version_major": 2,
       "version_minor": 0
      },
      "text/plain": [
       "  0%|          | 0/20 [00:00<?, ?it/s]"
      ]
     },
     "metadata": {},
     "output_type": "display_data"
    }
   ],
   "source": [
    "k, mse, results = Grid_Search(yt_k, ytst, dist_matrix, 1, 21)"
   ]
  },
  {
   "cell_type": "code",
   "execution_count": 49,
   "metadata": {},
   "outputs": [
    {
     "data": {
      "text/plain": [
       "(9, 10.514521517529474)"
      ]
     },
     "execution_count": 49,
     "metadata": {},
     "output_type": "execute_result"
    }
   ],
   "source": [
    "(k,mse)"
   ]
  },
  {
   "cell_type": "markdown",
   "metadata": {},
   "source": [
    "### Toy Problem K-NN\n",
    "\n",
    "Linear"
   ]
  },
  {
   "cell_type": "code",
   "execution_count": 66,
   "metadata": {},
   "outputs": [
    {
     "data": {
      "application/vnd.jupyter.widget-view+json": {
       "model_id": "d363faee598f4458b622e2e8dfc707ab",
       "version_major": 2,
       "version_minor": 0
      },
      "text/plain": [
       "  0%|          | 0/20 [00:00<?, ?it/s]"
      ]
     },
     "metadata": {},
     "output_type": "display_data"
    }
   ],
   "source": [
    "model_knn_t_lin = KNN()\n",
    "dist_matrix_toy_lin = model_knn_t_lin.dist_matrix(x_Toy, x_Toy_test)\n",
    "k_toy_lin, mse_toy_lin, results_toy_lin = Grid_Search(y_Toy, y_Toy_test, dist_matrix_toy_lin, 1, 21)"
   ]
  },
  {
   "cell_type": "code",
   "execution_count": 67,
   "metadata": {},
   "outputs": [
    {
     "data": {
      "text/plain": [
       "(15, 0.010823710766638716)"
      ]
     },
     "execution_count": 67,
     "metadata": {},
     "output_type": "execute_result"
    }
   ],
   "source": [
    "(k_toy_lin, mse_toy_lin)"
   ]
  },
  {
   "cell_type": "markdown",
   "metadata": {},
   "source": [
    "Sinusoidal "
   ]
  },
  {
   "cell_type": "code",
   "execution_count": 68,
   "metadata": {},
   "outputs": [
    {
     "data": {
      "application/vnd.jupyter.widget-view+json": {
       "model_id": "9b8c907da2444c889777f5fece772029",
       "version_major": 2,
       "version_minor": 0
      },
      "text/plain": [
       "  0%|          | 0/20 [00:00<?, ?it/s]"
      ]
     },
     "metadata": {},
     "output_type": "display_data"
    }
   ],
   "source": [
    "model_knn_t_sin = KNN()\n",
    "dist_matrix_toy_sin = model_knn_t_sin.dist_matrix(xsin_Toy, xsin_Toy_test)\n",
    "k_toy_sin, mse_toy_sin, results_toy_sin = Grid_Search(ysin_Toy, ysin_Toy_test, dist_matrix_toy_sin, 1, 21)"
   ]
  },
  {
   "cell_type": "code",
   "execution_count": 69,
   "metadata": {},
   "outputs": [
    {
     "data": {
      "text/plain": [
       "(11, 0.010047032238046181)"
      ]
     },
     "execution_count": 69,
     "metadata": {},
     "output_type": "execute_result"
    }
   ],
   "source": [
    "(k_toy_sin, mse_toy_sin)"
   ]
  },
  {
   "cell_type": "markdown",
   "metadata": {},
   "source": [
    "### Plots for KNN Toy Problem"
   ]
  },
  {
   "cell_type": "markdown",
   "metadata": {},
   "source": [
    "#### Linear (with noise)"
   ]
  },
  {
   "cell_type": "code",
   "execution_count": 58,
   "metadata": {},
   "outputs": [],
   "source": [
    "preds_knn_t_lin = model_knn_t_lin.predict(dist_matrix_toy_lin, y_Toy, k_toy_lin)\n",
    "preds_knn_t_lin_ = preds_knn_t_lin[np.argsort(x_Toy_test)]"
   ]
  },
  {
   "cell_type": "code",
   "execution_count": 74,
   "metadata": {},
   "outputs": [
    {
     "data": {
      "image/png": "[encoded data removed]",
      "text/plain": [
       "<Figure size 576x396 with 1 Axes>"
      ]
     },
     "metadata": {},
     "output_type": "display_data"
    }
   ],
   "source": [
    "plt.style.use('seaborn')\n",
    "plt.plot(x_Toy_test_, preds_knn_t_lin_, color = 'b', label='Predictions')\n",
    "plt.scatter(x_Toy_test_, y_Toy_test_, color = 'r', label='Ytest')\n",
    "plt.legend(prop={'size': 13})\n",
    "plt.title('KNN on Linear - w noise', fontsize=20)\n",
    "plt.xlim(-5,5)\n",
    "\n",
    "plt.xlabel('$\\mathbf{X}_{toy}$', size = 13)\n",
    "plt.ylabel('$\\mathbf{Y}_{toy}$', size = 13)\n",
    "\n",
    "\n",
    "plt.show()"
   ]
  },
  {
   "cell_type": "markdown",
   "metadata": {},
   "source": [
    "#### Sinusoidal (with noise)"
   ]
  },
  {
   "cell_type": "code",
   "execution_count": 70,
   "metadata": {},
   "outputs": [],
   "source": [
    "preds_knn_t_sin = model_knn_t_sin.predict(dist_matrix_toy_sin, ysin_Toy, k_toy_sin)\n",
    "preds_knn_t_sin_ = preds_knn_t_sin[np.argsort(xsin_Toy_test)]"
   ]
  },
  {
   "cell_type": "code",
   "execution_count": 75,
   "metadata": {},
   "outputs": [
    {
     "data": {
      "image/png": "[encoded data removed]",
      "text/plain": [
       "<Figure size 576x396 with 1 Axes>"
      ]
     },
     "metadata": {},
     "output_type": "display_data"
    }
   ],
   "source": [
    "plt.style.use('seaborn')\n",
    "plt.plot(xsin_Toy_test_, preds_knn_t_sin_, color = 'b', label='Predictions')\n",
    "plt.scatter(xsin_Toy_test_, ysin_Toy_test_, color = 'r', label='Ytest')\n",
    "plt.legend(prop={'size': 13})\n",
    "plt.title('KNN on Sinusoidal - w noise', fontsize=20)\n",
    "plt.xlim(-5,5)\n",
    "\n",
    "plt.xlabel('$\\mathbf{X}_{toy}$', size = 13)\n",
    "plt.ylabel('$\\mathbf{Y}_{toy}$', size = 13)\n",
    "\n",
    "plt.show()"
   ]
  },
  {
   "cell_type": "markdown",
   "metadata": {},
   "source": [
    "# 3) Random Forest"
   ]
  },
  {
   "cell_type": "code",
   "execution_count": 117,
   "metadata": {},
   "outputs": [],
   "source": [
    "class Random_Forest():\n",
    "    \n",
    "    def split(self, x, y):\n",
    "    \n",
    "        var_start = np.var(y)*len(y)\n",
    "\n",
    "        best = {'infogain' : -np.inf}\n",
    "        \n",
    "        if len(x.shape) == 1:\n",
    "            x = x[:,None]\n",
    "            \n",
    "        for i in range(x.shape[1]):\n",
    "            for split in np.linspace(np.min(np.unique(x[:,i])),np.max(np.unique(x[:,i])),20):\n",
    "                left = x[:,i]<=split\n",
    "                right = x[:,i]>split #include split value on both sides to alleviate risk of left/right bias\n",
    "\n",
    "                var_left = np.var(y[left])*len(y[left])\n",
    "                var_right = np.var(y[right])*len(y[right])\n",
    "\n",
    "                infogain = var_start - (var_left + var_right)\n",
    "\n",
    "                if infogain > best['infogain']:\n",
    "                    best = {'feature' : i,\n",
    "                                'split' : split,\n",
    "                                'infogain' : infogain, \n",
    "                                'left_indices' : np.where(left)[0],\n",
    "                                'right_indices' : np.where(right)[0]}\n",
    "\n",
    "        return best\n",
    "\n",
    "\n",
    "    def tree(self, x, y, leaf_threshold, m_depth = np.inf):\n",
    "        \n",
    "        if len(x.shape) == 1:\n",
    "            x = x[:,None]\n",
    "        \n",
    "        if m_depth==1 or len(y) <= leaf_threshold:\n",
    "\n",
    "            return {'leaf' : True, 'prediction' : np.mean(y)}\n",
    "\n",
    "        else:\n",
    "            split_ = self.split(x, y)\n",
    "\n",
    "            left = self.tree(x[split_['left_indices'],:], \n",
    "                             y[split_['left_indices']], leaf_threshold, m_depth - 1)\n",
    "            right = self.tree(x[split_['right_indices'],:], \n",
    "                              y[split_['right_indices']], leaf_threshold, m_depth - 1)\n",
    "\n",
    "            return {'leaf' : False,\n",
    "                    'feature' : split_['feature'],\n",
    "                    'split' : split_['split'],\n",
    "                    'infogain' : split_['infogain'],\n",
    "                    'left' : left,\n",
    "                    'right' : right}\n",
    "        \n",
    "    def RF(self, x, y, no_trees=10, leaf_threshold = 10, m_depth = 40, samplesize=4000):\n",
    "        Random_forest = []\n",
    "        for i in tqdm(range(no_trees)):\n",
    "            exemplars = np.random.choice(len(x), samplesize, replace=True)\n",
    "\n",
    "            bag_xtrain = x[exemplars]\n",
    "\n",
    "            bag_ytrain = y[exemplars]\n",
    "\n",
    "            Random_forest.append(self.tree(bag_xtrain, bag_ytrain, leaf_threshold, m_depth))\n",
    "\n",
    "        return Random_forest\n",
    "    \n",
    "    \n",
    "    def build_predicts(self, tree, testdata):\n",
    "        \n",
    "        if len(testdata.shape) == 1:\n",
    "            testdata = testdata[:, None]\n",
    "        \n",
    "        build = np.empty(testdata.shape[0], dtype=float)\n",
    "        build.fill(-1)\n",
    "        indx = np.arange(testdata.shape[0])\n",
    "\n",
    "        def traverse(node, indx):\n",
    "            nonlocal testdata\n",
    "            nonlocal build\n",
    "\n",
    "            if node['leaf']:\n",
    "                build[indx] = node['prediction']\n",
    "\n",
    "            else:\n",
    "                going_left = testdata[indx, node['feature']] <= node['split']\n",
    "                left_indices = indx[going_left]\n",
    "                right_indices = indx[np.logical_not(going_left)]\n",
    "\n",
    "                if left_indices.shape[0] > 0:\n",
    "                    traverse(node['left'], left_indices)\n",
    "\n",
    "                if right_indices.shape[0] > 0:\n",
    "                    traverse(node['right'], right_indices)\n",
    "\n",
    "        traverse(tree, indx)\n",
    "        return build\n",
    "    \n",
    "    def predict(self, rf, Xt):\n",
    "        \n",
    "        predictions_ = []\n",
    "        for tree in rf:\n",
    "            predictions_.append(model_RF.build_predicts(tree, Xt))\n",
    "\n",
    "        stack = np.zeros((len(predictions_[0]),len(predictions_)))\n",
    "\n",
    "        for g in range(len(predictions_)):\n",
    "            stack[:,g] = predictions_[g]\n",
    "\n",
    "        predictions = np.mean(stack, axis=-1)\n",
    "        \n",
    "        return predictions"
   ]
  },
  {
   "cell_type": "markdown",
   "metadata": {},
   "source": [
    "### SARCOS RF"
   ]
  },
  {
   "cell_type": "code",
   "execution_count": 118,
   "metadata": {},
   "outputs": [
    {
     "data": {
      "application/vnd.jupyter.widget-view+json": {
       "model_id": "c6c0dd2902d2404b8b61592708a3b222",
       "version_major": 2,
       "version_minor": 0
      },
      "text/plain": [
       "  0%|          | 0/100 [00:00<?, ?it/s]"
      ]
     },
     "metadata": {},
     "output_type": "display_data"
    }
   ],
   "source": [
    "idx_rf =round(0.6*xt.shape[0])\n",
    "xt_rf = xt[:idx_rf]\n",
    "yt_rf = yt[:idx_rf]\n",
    "\n",
    "model_RF = Random_Forest()\n",
    "rf = model_RF.RF(xt_rf,yt_rf,10,10,100, 1000)\n",
    "predictions_rf = model_RF.predict(rf, xtst)"
   ]
  },
  {
   "cell_type": "code",
   "execution_count": 119,
   "metadata": {},
   "outputs": [
    {
     "data": {
      "text/plain": [
       "13.640803790708055"
      ]
     },
     "execution_count": 119,
     "metadata": {},
     "output_type": "execute_result"
    }
   ],
   "source": [
    "calc_mse(predictions_rf, ytst)"
   ]
  },
  {
   "cell_type": "markdown",
   "metadata": {},
   "source": [
    "### Toy Problem RF\n",
    "\n",
    "Linear"
   ]
  },
  {
   "cell_type": "code",
   "execution_count": 122,
   "metadata": {},
   "outputs": [
    {
     "data": {
      "application/vnd.jupyter.widget-view+json": {
       "model_id": "acc4329882aa475cbf5fcc8d3e560fb3",
       "version_major": 2,
       "version_minor": 0
      },
      "text/plain": [
       "  0%|          | 0/100 [00:00<?, ?it/s]"
      ]
     },
     "metadata": {},
     "output_type": "display_data"
    }
   ],
   "source": [
    "model_RF_t_lin = Random_Forest()\n",
    "rf_t_lin = model_RF_t_lin.RF(x_Toy, y_Toy, 100, 10, 40, 500)\n",
    "predictions_rf_t_lin = model_RF.predict(rf_t_lin, x_Toy_test)"
   ]
  },
  {
   "cell_type": "code",
   "execution_count": 123,
   "metadata": {},
   "outputs": [
    {
     "data": {
      "text/plain": [
       "0.015900558042762365"
      ]
     },
     "execution_count": 123,
     "metadata": {},
     "output_type": "execute_result"
    }
   ],
   "source": [
    "calc_mse(predictions_rf_t_lin, y_Toy_test)"
   ]
  },
  {
   "cell_type": "markdown",
   "metadata": {},
   "source": [
    "Sinusoidal "
   ]
  },
  {
   "cell_type": "code",
   "execution_count": 131,
   "metadata": {},
   "outputs": [
    {
     "data": {
      "application/vnd.jupyter.widget-view+json": {
       "model_id": "dcaef2e221ed47f9814b6290c22da267",
       "version_major": 2,
       "version_minor": 0
      },
      "text/plain": [
       "  0%|          | 0/100 [00:00<?, ?it/s]"
      ]
     },
     "metadata": {},
     "output_type": "display_data"
    }
   ],
   "source": [
    "model_RF_t_sin = Random_Forest()\n",
    "rf_t_sin = model_RF_t_sin.RF(xsin_Toy, ysin_Toy, 100, 10, 40, 500)\n",
    "predictions_rf_t_sin = model_RF.predict(rf_t_sin, xsin_Toy_test)"
   ]
  },
  {
   "cell_type": "code",
   "execution_count": 132,
   "metadata": {},
   "outputs": [
    {
     "data": {
      "text/plain": [
       "0.010906037556384302"
      ]
     },
     "execution_count": 132,
     "metadata": {},
     "output_type": "execute_result"
    }
   ],
   "source": [
    "calc_mse(predictions_rf_t_sin, ysin_Toy_test)"
   ]
  },
  {
   "cell_type": "markdown",
   "metadata": {},
   "source": [
    "### Plots for RF Toy Problem"
   ]
  },
  {
   "cell_type": "markdown",
   "metadata": {},
   "source": [
    "#### Linear (with noise)"
   ]
  },
  {
   "cell_type": "code",
   "execution_count": 133,
   "metadata": {},
   "outputs": [],
   "source": [
    "predictions_rf_t_lin_ = predictions_rf_t_lin[np.argsort(x_Toy_test)]"
   ]
  },
  {
   "cell_type": "code",
   "execution_count": 134,
   "metadata": {},
   "outputs": [
    {
     "data": {
      "image/png": "[encoded data removed]",
      "text/plain": [
       "<Figure size 576x396 with 1 Axes>"
      ]
     },
     "metadata": {},
     "output_type": "display_data"
    }
   ],
   "source": [
    "plt.style.use('seaborn')\n",
    "plt.plot(x_Toy_test_, predictions_rf_t_lin_, color = 'b', label='Predictions')\n",
    "plt.scatter(x_Toy_test_, y_Toy_test_, color = 'r', label='Ytest')\n",
    "plt.legend(prop={'size': 13})\n",
    "plt.title('RF on Linear - w noise', fontsize=20)\n",
    "plt.xlim(-5,5)\n",
    "\n",
    "plt.xlabel('$\\mathbf{X}_{toy}$', size = 13)\n",
    "plt.ylabel('$\\mathbf{Y}_{toy}$', size = 13)\n",
    "\n",
    "\n",
    "plt.show()"
   ]
  },
  {
   "cell_type": "markdown",
   "metadata": {},
   "source": [
    "#### Sinusoidal (with noise)"
   ]
  },
  {
   "cell_type": "code",
   "execution_count": 135,
   "metadata": {},
   "outputs": [],
   "source": [
    "predictions_rf_t_sin_ = predictions_rf_t_sin[np.argsort(x_Toy_test)]"
   ]
  },
  {
   "cell_type": "code",
   "execution_count": 136,
   "metadata": {},
   "outputs": [
    {
     "data": {
      "image/png": "[encoded data removed]",
      "text/plain": [
       "<Figure size 576x396 with 1 Axes>"
      ]
     },
     "metadata": {},
     "output_type": "display_data"
    }
   ],
   "source": [
    "plt.style.use('seaborn')\n",
    "plt.plot(xsin_Toy_test_, predictions_rf_t_sin_, color = 'b', label='Predictions')\n",
    "plt.scatter(xsin_Toy_test_, ysin_Toy_test_, color = 'r', label='Ytest')\n",
    "plt.legend(prop={'size': 13})\n",
    "plt.title('RF on Sinusoidal - w noise', fontsize=20)\n",
    "plt.xlim(-5,5)\n",
    "\n",
    "plt.xlabel('$\\mathbf{X}_{toy}$', size = 13)\n",
    "plt.ylabel('$\\mathbf{Y}_{toy}$', size = 13)\n",
    "\n",
    "plt.show()"
   ]
  },
  {
   "cell_type": "code",
   "execution_count": null,
   "metadata": {},
   "outputs": [],
   "source": []
  }
 ],
 "metadata": {
  "kernelspec": {
   "display_name": "Python 3",
   "language": "python",
   "name": "python3"
  },
  "language_info": {
   "codemirror_mode": {
    "name": "ipython",
    "version": 3
   },
   "file_extension": ".py",
   "mimetype": "text/x-python",
   "name": "python",
   "nbconvert_exporter": "python",
   "pygments_lexer": "ipython3",
   "version": "3.8.2"
  }
 },
 "nbformat": 4,
 "nbformat_minor": 2
}
