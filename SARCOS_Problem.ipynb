{
 "cells": [
  {
   "cell_type": "markdown",
   "metadata": {},
   "source": [
    "# SARCOS Dataset Problem \n",
    "----------------------------\n",
    "Models applied to the SARCOS Dataset:  \n",
    "Linear Regression  \n",
    "K-NN  \n",
    "RF  \n",
    "Gaussian Process  \n",
    "\n",
    "\n",
    "We also create a linear and sinusoidal toy problem to sense check the models."
   ]
  },
  {
   "cell_type": "code",
   "execution_count": 1,
   "metadata": {},
   "outputs": [],
   "source": [
    "import numpy as np\n",
    "import pandas as pd\n",
    "from sklearn.model_selection import train_test_split\n",
    "from sklearn import preprocessing\n",
    "import matplotlib.pyplot as plt\n",
    "from tqdm.notebook import tqdm"
   ]
  },
  {
   "cell_type": "markdown",
   "metadata": {},
   "source": [
    "### Toy problem/data"
   ]
  },
  {
   "cell_type": "code",
   "execution_count": 2,
   "metadata": {},
   "outputs": [],
   "source": [
    "#Toy 1D data set:\n",
    "#Sinusoidal:\n",
    "x_toy = np.linspace(-3,3,500)\n",
    "y_sin = np.sin(x_toy)*0.5 +5 + np.random.normal(size = 500)*0.1 #Adding noise to the toy problem\n",
    "#Linear:\n",
    "y_lin = 2*x_toy + 5 + np.random.normal(size = 500)*0.1 #Adding noise to the toy problem"
   ]
  },
  {
   "cell_type": "code",
   "execution_count": 3,
   "metadata": {},
   "outputs": [],
   "source": [
    "#Linear:\n",
    "x_Toy, x_Toy_test, y_Toy, y_Toy_test = train_test_split(x_toy, y_lin, test_size=0.20, random_state=101)\n",
    "\n",
    "#Sinusoidal:\n",
    "xsin_Toy, xsin_Toy_test, ysin_Toy, ysin_Toy_test = train_test_split(x_toy, y_sin, test_size=0.20, random_state=101)"
   ]
  },
  {
   "cell_type": "markdown",
   "metadata": {},
   "source": [
    "### Sarcos Data"
   ]
  },
  {
   "cell_type": "code",
   "execution_count": 4,
   "metadata": {},
   "outputs": [],
   "source": [
    "sarcos = pd.read_csv('sarcos_inv.csv', header = None).values"
   ]
  },
  {
   "cell_type": "code",
   "execution_count": 5,
   "metadata": {},
   "outputs": [],
   "source": [
    "xt_, xtst_, yt, ytst = train_test_split(sarcos[:,:-1], sarcos[:,-1], train_size=0.9, random_state=101)"
   ]
  },
  {
   "cell_type": "code",
   "execution_count": 6,
   "metadata": {},
   "outputs": [],
   "source": [
    "xtst_ = xtst_[:50]\n",
    "ytst = ytst[:50]"
   ]
  },
  {
   "cell_type": "markdown",
   "metadata": {},
   "source": [
    "Here we standardize the x-values using the mean and unit standard deviation for each feature in the training data_set."
   ]
  },
  {
   "cell_type": "code",
   "execution_count": 7,
   "metadata": {},
   "outputs": [],
   "source": [
    "scaler = preprocessing.StandardScaler().fit(xt_)\n",
    "xt, xtst = scaler.transform(xt_), scaler.transform(xtst_)"
   ]
  },
  {
   "cell_type": "code",
   "execution_count": 8,
   "metadata": {},
   "outputs": [],
   "source": [
    "def calc_mse(Prediction, Y):\n",
    "    mse = np.mean(np.square(Prediction - Y))\n",
    "    return mse"
   ]
  },
  {
   "cell_type": "markdown",
   "metadata": {},
   "source": [
    "# 1) Linear Regression  \n",
    "## (using closed form solution)\n",
    "\n",
    "Here we build the LinearRegression class. The Linear Regression is trained using the closed form solution:\n",
    "\n",
    "$$ \\hat{\\beta} = (X^{T}X)^{-1}X^{T}y $$"
   ]
  },
  {
   "cell_type": "code",
   "execution_count": 9,
   "metadata": {},
   "outputs": [],
   "source": [
    "class LinearRegression():\n",
    "    \n",
    "    def __init__(self, intercept = True):\n",
    "        self.intercept = intercept\n",
    "    \n",
    "    def fit(self, X, Y):\n",
    "        if self.intercept == True:\n",
    "            if len(X.shape) == 1:\n",
    "                X = X.reshape(-1,1)\n",
    "                X = np.insert(X,0,1,1)\n",
    "                w = (np.linalg.inv(X.T @ X)) @ X.T @ Y\n",
    "\n",
    "                self.B = w[1:]\n",
    "                self.c = w[0]\n",
    "                \n",
    "            else:\n",
    "                X = np.insert(X,0,1,1)\n",
    "                w = np.linalg.inv(X.T @ X) @ X.T @ Y\n",
    "\n",
    "                self.B = w[1:]\n",
    "                self.c = w[0]\n",
    "        else:\n",
    "            w = np.linalg.inv(X.T @ X) @ X.T @ Y\n",
    "            self.B = w\n",
    "            self.c = 0\n",
    "        return self\n",
    "            \n",
    "    def predict(self, X_t):\n",
    "        if len(X_t.shape) == 1:\n",
    "            X_t = X_t.reshape(-1,1)\n",
    "            Prediction = X_t @ self.B + self.c\n",
    "        else:\n",
    "            Prediction = X_t @ self.B + self.c\n",
    "        \n",
    "        return Prediction"
   ]
  },
  {
   "cell_type": "markdown",
   "metadata": {},
   "source": [
    "### Sarcos LR"
   ]
  },
  {
   "cell_type": "code",
   "execution_count": 10,
   "metadata": {},
   "outputs": [],
   "source": [
    "model = LinearRegression()\n",
    "model.fit(xt,yt)\n",
    "prediction = model.predict(xtst)"
   ]
  },
  {
   "cell_type": "code",
   "execution_count": 11,
   "metadata": {},
   "outputs": [
    {
     "data": {
      "text/plain": [
       "16.766759879376508"
      ]
     },
     "execution_count": 11,
     "metadata": {},
     "output_type": "execute_result"
    }
   ],
   "source": [
    "calc_mse(prediction,ytst)"
   ]
  },
  {
   "cell_type": "markdown",
   "metadata": {},
   "source": [
    "### Toy Problem LR\n",
    "Linear"
   ]
  },
  {
   "cell_type": "code",
   "execution_count": 12,
   "metadata": {},
   "outputs": [],
   "source": [
    "model_toy_lin = LinearRegression()\n",
    "model_toy_lin.fit(x_Toy,y_Toy)\n",
    "prediction_toy_lin = model_toy_lin.predict(x_Toy_test)"
   ]
  },
  {
   "cell_type": "code",
   "execution_count": 13,
   "metadata": {},
   "outputs": [
    {
     "data": {
      "text/plain": [
       "0.009980792922064287"
      ]
     },
     "execution_count": 13,
     "metadata": {},
     "output_type": "execute_result"
    }
   ],
   "source": [
    "calc_mse(prediction_toy_lin, y_Toy_test)"
   ]
  },
  {
   "cell_type": "markdown",
   "metadata": {},
   "source": [
    "Sinusoidal"
   ]
  },
  {
   "cell_type": "code",
   "execution_count": 14,
   "metadata": {},
   "outputs": [],
   "source": [
    "model_toy_sin = LinearRegression()\n",
    "model_toy_sin.fit(xsin_Toy,ysin_Toy)\n",
    "prediction_toy_sin = model_toy_sin.predict(xsin_Toy_test)"
   ]
  },
  {
   "cell_type": "code",
   "execution_count": 15,
   "metadata": {},
   "outputs": [
    {
     "data": {
      "text/plain": [
       "0.04394487279661109"
      ]
     },
     "execution_count": 15,
     "metadata": {},
     "output_type": "execute_result"
    }
   ],
   "source": [
    "calc_mse(prediction_toy_sin, ysin_Toy_test)"
   ]
  },
  {
   "cell_type": "markdown",
   "metadata": {},
   "source": [
    "### Plots for LR Toy Problem"
   ]
  },
  {
   "cell_type": "markdown",
   "metadata": {},
   "source": [
    "#### Linear (with noise)"
   ]
  },
  {
   "cell_type": "code",
   "execution_count": 16,
   "metadata": {},
   "outputs": [],
   "source": [
    "x_Toy_test_ = x_Toy_test[np.argsort(x_Toy_test)]\n",
    "prediction_toy_lin_ = prediction_toy_lin[np.argsort(x_Toy_test)]\n",
    "y_Toy_test_ = y_Toy_test[np.argsort(x_Toy_test)]"
   ]
  },
  {
   "cell_type": "code",
   "execution_count": 72,
   "metadata": {},
   "outputs": [
    {
     "data": {
      "image/png": "[encoded data removed]",
      "text/plain": [
       "<Figure size 576x396 with 1 Axes>"
      ]
     },
     "metadata": {},
     "output_type": "display_data"
    }
   ],
   "source": [
    "plt.style.use('seaborn')\n",
    "plt.plot(x_Toy_test_, prediction_toy_lin_, color = 'b', label='Predictions')\n",
    "plt.scatter(x_Toy_test_, y_Toy_test_, color = 'r', label='Ytest')\n",
    "plt.legend(prop={'size': 13})\n",
    "plt.title('LR on Linear - w noise', fontsize=20)\n",
    "plt.xlim(-5,5)\n",
    "\n",
    "plt.xlabel('$\\mathbf{X}_{toy}$', size = 13)\n",
    "plt.ylabel('$\\mathbf{Y}_{toy}$', size = 13)\n",
    "\n",
    "\n",
    "plt.show()"
   ]
  },
  {
   "cell_type": "markdown",
   "metadata": {},
   "source": [
    "#### Sinusoidal (with noise)"
   ]
  },
  {
   "cell_type": "code",
   "execution_count": 18,
   "metadata": {},
   "outputs": [],
   "source": [
    "xsin_Toy_test_ = x_Toy_test[np.argsort(xsin_Toy_test)]\n",
    "prediction_toy_sin_ = prediction_toy_sin[np.argsort(xsin_Toy_test)]\n",
    "ysin_Toy_test_ = ysin_Toy_test[np.argsort(xsin_Toy_test)]"
   ]
  },
  {
   "cell_type": "code",
   "execution_count": 73,
   "metadata": {},
   "outputs": [
    {
     "data": {
      "image/png": "[encoded data removed]",
      "text/plain": [
       "<Figure size 576x396 with 1 Axes>"
      ]
     },
     "metadata": {},
     "output_type": "display_data"
    }
   ],
   "source": [
    "plt.style.use('seaborn')\n",
    "plt.plot(xsin_Toy_test_, prediction_toy_sin_, color = 'b', label='Predictions')\n",
    "plt.scatter(xsin_Toy_test_, ysin_Toy_test_, color = 'r', label='Ytest')\n",
    "plt.legend(prop={'size': 13})\n",
    "plt.title('LR on Sinusoidal - w noise', fontsize=20)\n",
    "plt.xlim(-5,5)\n",
    "\n",
    "plt.xlabel('$\\mathbf{X}_{toy}$', size = 13)\n",
    "plt.ylabel('$\\mathbf{Y}_{toy}$', size = 13)\n",
    "\n",
    "plt.show()"
   ]
  },
  {
   "cell_type": "markdown",
   "metadata": {},
   "source": [
    "# 2) K-NN"
   ]
  },
  {
   "cell_type": "code",
   "execution_count": 45,
   "metadata": {},
   "outputs": [],
   "source": [
    "class KNN():\n",
    "\n",
    "    def dist_matrix(self, X, Xt):\n",
    "        if len(X.shape) == 1:\n",
    "            X = X[:, None]\n",
    "            Xt = Xt[:, None]\n",
    "            \n",
    "        euc_dist_ = 0\n",
    "        for i in range(X.shape[-1]):\n",
    "            euc_dist_ += np.square(X[:,i][None] - Xt[:,i][:,None])\n",
    "\n",
    "\n",
    "        return np.sqrt(euc_dist_)\n",
    "            \n",
    "        \n",
    "    def predict(self, dist_m, Y, K):\n",
    "        NNs = np.argsort(dist_m)[:,:K]\n",
    "        \n",
    "        w_d = np.zeros((len(NNs),K))\n",
    "        for i in range(len(NNs)):\n",
    "            w_d[i,:] = dist_m[i,NNs[i]]\n",
    "        \n",
    "        denom = np.sum((1/w_d), axis=1)\n",
    "        weighting = (1/w_d)/denom[:,None]\n",
    "        \n",
    "        predictions = np.sum((Y[NNs] * weighting), axis=1)\n",
    "        \n",
    "        return predictions\n",
    "    "
   ]
  },
  {
   "cell_type": "code",
   "execution_count": 46,
   "metadata": {},
   "outputs": [],
   "source": [
    "def Grid_Search(y_train, y_test, d_matrix, range_start, range_end):\n",
    "\n",
    "    MSE_gridsearch = np.zeros((range_end - range_start))\n",
    "\n",
    "    model_Grid_Srch = KNN()\n",
    "\n",
    "    for K in tqdm(range(range_start,range_end)):\n",
    "\n",
    "        predictions = model_Grid_Srch.predict(d_matrix, y_train, K)\n",
    "\n",
    "        MSE_sarcos = calc_mse(predictions, y_test)\n",
    "\n",
    "        MSE_gridsearch[K-1] = MSE_sarcos\n",
    "\n",
    "    idx = np.argsort(MSE_gridsearch)[0]\n",
    "\n",
    "    K = idx+1\n",
    "\n",
    "    MSE_ = MSE_gridsearch[idx]\n",
    "\n",
    "    return K, MSE_, MSE_gridsearch"
   ]
  },
  {
   "cell_type": "markdown",
   "metadata": {},
   "source": [
    "### SARCOS K-NN"
   ]
  },
  {
   "cell_type": "code",
   "execution_count": 47,
   "metadata": {},
   "outputs": [],
   "source": [
    "idx_k =round(0.6*xt.shape[0])\n",
    "xt_k = xt[:idx_k]\n",
    "yt_k = yt[:idx_k]\n",
    "\n",
    "model_knn = KNN()\n",
    "dist_matrix = model_knn.dist_matrix(xt_k,xtst)"
   ]
  },
  {
   "cell_type": "code",
   "execution_count": 48,
   "metadata": {},
   "outputs": [
    {
     "data": {
      "application/vnd.jupyter.widget-view+json": {
       "model_id": "c4f84abcfb264d1fb57a99a8bfdd6b7f",
       "version_major": 2,
       "version_minor": 0
      },
      "text/plain": [
       "  0%|          | 0/20 [00:00<?, ?it/s]"
      ]
     },
     "metadata": {},
     "output_type": "display_data"
    }
   ],
   "source": [
    "k, mse, results = Grid_Search(yt_k, ytst, dist_matrix, 1, 21)"
   ]
  },
  {
   "cell_type": "code",
   "execution_count": 49,
   "metadata": {},
   "outputs": [
    {
     "data": {
      "text/plain": [
       "(9, 10.514521517529474)"
      ]
     },
     "execution_count": 49,
     "metadata": {},
     "output_type": "execute_result"
    }
   ],
   "source": [
    "(k,mse)"
   ]
  },
  {
   "cell_type": "markdown",
   "metadata": {},
   "source": [
    "### Toy Problem K-NN\n",
    "\n",
    "Linear"
   ]
  },
  {
   "cell_type": "code",
   "execution_count": 66,
   "metadata": {},
   "outputs": [
    {
     "data": {
      "application/vnd.jupyter.widget-view+json": {
       "model_id": "d363faee598f4458b622e2e8dfc707ab",
       "version_major": 2,
       "version_minor": 0
      },
      "text/plain": [
       "  0%|          | 0/20 [00:00<?, ?it/s]"
      ]
     },
     "metadata": {},
     "output_type": "display_data"
    }
   ],
   "source": [
    "model_knn_t_lin = KNN()\n",
    "dist_matrix_toy_lin = model_knn_t_lin.dist_matrix(x_Toy, x_Toy_test)\n",
    "k_toy_lin, mse_toy_lin, results_toy_lin = Grid_Search(y_Toy, y_Toy_test, dist_matrix_toy_lin, 1, 21)"
   ]
  },
  {
   "cell_type": "code",
   "execution_count": 67,
   "metadata": {},
   "outputs": [
    {
     "data": {
      "text/plain": [
       "(15, 0.010823710766638716)"
      ]
     },
     "execution_count": 67,
     "metadata": {},
     "output_type": "execute_result"
    }
   ],
   "source": [
    "(k_toy_lin, mse_toy_lin)"
   ]
  },
  {
   "cell_type": "markdown",
   "metadata": {},
   "source": [
    "Sinusoidal "
   ]
  },
  {
   "cell_type": "code",
   "execution_count": 68,
   "metadata": {},
   "outputs": [
    {
     "data": {
      "application/vnd.jupyter.widget-view+json": {
       "model_id": "9b8c907da2444c889777f5fece772029",
       "version_major": 2,
       "version_minor": 0
      },
      "text/plain": [
       "  0%|          | 0/20 [00:00<?, ?it/s]"
      ]
     },
     "metadata": {},
     "output_type": "display_data"
    }
   ],
   "source": [
    "model_knn_t_sin = KNN()\n",
    "dist_matrix_toy_sin = model_knn_t_sin.dist_matrix(xsin_Toy, xsin_Toy_test)\n",
    "k_toy_sin, mse_toy_sin, results_toy_sin = Grid_Search(ysin_Toy, ysin_Toy_test, dist_matrix_toy_sin, 1, 21)"
   ]
  },
  {
   "cell_type": "code",
   "execution_count": 69,
   "metadata": {},
   "outputs": [
    {
     "data": {
      "text/plain": [
       "(11, 0.010047032238046181)"
      ]
     },
     "execution_count": 69,
     "metadata": {},
     "output_type": "execute_result"
    }
   ],
   "source": [
    "(k_toy_sin, mse_toy_sin)"
   ]
  },
  {
   "cell_type": "markdown",
   "metadata": {},
   "source": [
    "### Plots for KNN Toy Problem"
   ]
  },
  {
   "cell_type": "markdown",
   "metadata": {},
   "source": [
    "#### Linear (with noise)"
   ]
  },
  {
   "cell_type": "code",
   "execution_count": 58,
   "metadata": {},
   "outputs": [],
   "source": [
    "preds_knn_t_lin = model_knn_t_lin.predict(dist_matrix_toy_lin, y_Toy, k_toy_lin)\n",
    "preds_knn_t_lin_ = preds_knn_t_lin[np.argsort(x_Toy_test)]"
   ]
  },
  {
   "cell_type": "code",
   "execution_count": 74,
   "metadata": {},
   "outputs": [
    {
     "data": {
      "image/png": "[encoded data removed]",
      "text/plain": [
       "<Figure size 576x396 with 1 Axes>"
      ]
     },
     "metadata": {},
     "output_type": "display_data"
    }
   ],
   "source": [
    "plt.style.use('seaborn')\n",
    "plt.plot(x_Toy_test_, preds_knn_t_lin_, color = 'b', label='Predictions')\n",
    "plt.scatter(x_Toy_test_, y_Toy_test_, color = 'r', label='Ytest')\n",
    "plt.legend(prop={'size': 13})\n",
    "plt.title('KNN on Linear - w noise', fontsize=20)\n",
    "plt.xlim(-5,5)\n",
    "\n",
    "plt.xlabel('$\\mathbf{X}_{toy}$', size = 13)\n",
    "plt.ylabel('$\\mathbf{Y}_{toy}$', size = 13)\n",
    "\n",
    "\n",
    "plt.show()"
   ]
  },
  {
   "cell_type": "markdown",
   "metadata": {},
   "source": [
    "#### Sinusoidal (with noise)"
   ]
  },
  {
   "cell_type": "code",
   "execution_count": 70,
   "metadata": {},
   "outputs": [],
   "source": [
    "preds_knn_t_sin = model_knn_t_sin.predict(dist_matrix_toy_sin, ysin_Toy, k_toy_sin)\n",
    "preds_knn_t_sin_ = preds_knn_t_sin[np.argsort(xsin_Toy_test)]"
   ]
  },
  {
   "cell_type": "code",
   "execution_count": 75,
   "metadata": {},
   "outputs": [
    {
     "data": {
      "image/png": "[encoded data removed]",
      "text/plain": [
       "<Figure size 576x396 with 1 Axes>"
      ]
     },
     "metadata": {},
     "output_type": "display_data"
    }
   ],
   "source": [
    "plt.style.use('seaborn')\n",
    "plt.plot(xsin_Toy_test_, preds_knn_t_sin_, color = 'b', label='Predictions')\n",
    "plt.scatter(xsin_Toy_test_, ysin_Toy_test_, color = 'r', label='Ytest')\n",
    "plt.legend(prop={'size': 13})\n",
    "plt.title('KNN on Sinusoidal - w noise', fontsize=20)\n",
    "plt.xlim(-5,5)\n",
    "\n",
    "plt.xlabel('$\\mathbf{X}_{toy}$', size = 13)\n",
    "plt.ylabel('$\\mathbf{Y}_{toy}$', size = 13)\n",
    "\n",
    "plt.show()"
   ]
  },
  {
   "cell_type": "code",
   "execution_count": null,
   "metadata": {},
   "outputs": [],
   "source": []
  }
 ],
 "metadata": {
  "kernelspec": {
   "display_name": "Python 3",
   "language": "python",
   "name": "python3"
  },
  "language_info": {
   "codemirror_mode": {
    "name": "ipython",
    "version": 3
   },
   "file_extension": ".py",
   "mimetype": "text/x-python",
   "name": "python",
   "nbconvert_exporter": "python",
   "pygments_lexer": "ipython3",
   "version": "3.8.2"
  }
 },
 "nbformat": 4,
 "nbformat_minor": 2
}
